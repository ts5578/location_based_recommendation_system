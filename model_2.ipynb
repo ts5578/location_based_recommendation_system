{
 "cells": [
  {
   "cell_type": "code",
   "execution_count": 1,
   "id": "ee395d2c-d285-4bfc-a5ee-b77408751804",
   "metadata": {},
   "outputs": [],
   "source": [
    "from tensorflow.keras.layers import Dropout\n",
    "from tensorflow.keras.callbacks import EarlyStopping, ReduceLROnPlateau\n",
    "import matplotlib.pyplot as plt\n",
    "import numpy as np\n",
    "from sklearn.metrics import confusion_matrix, accuracy_score\n",
    "import seaborn as sns"
   ]
  },
  {
   "cell_type": "code",
   "execution_count": 2,
   "id": "dfeee4ef-0780-4077-9fd9-6bd9ffbb0326",
   "metadata": {},
   "outputs": [],
   "source": [
    "import numpy as np\n",
    "import tensorflow as tf\n",
    "from tensorflow.keras.layers import Input, Conv2D, Flatten, Dense, LSTM, Reshape, Concatenate\n",
    "from tensorflow.keras.models import Model, Sequential"
   ]
  },
  {
   "cell_type": "code",
   "execution_count": 3,
   "id": "430a3821-d821-4f33-a3fa-b3584fea9b0b",
   "metadata": {},
   "outputs": [],
   "source": [
    "# Change the input for product images to (16, 16, 3)\n",
    "image_input = Input(shape=(8, 8, 3), name='image_input')\n"
   ]
  },
  {
   "cell_type": "code",
   "execution_count": 4,
   "id": "4ac74648-c5da-487a-81c8-6ffc252f4251",
   "metadata": {},
   "outputs": [],
   "source": [
    "# CNN layers for product image with Dropout\n",
    "x = Conv2D(32, (3, 3), activation='relu')(image_input)\n",
    "x = Dropout(0.5)(x)  # Add Dropout\n",
    "x = Conv2D(64, (3, 3), activation='relu')(x)\n",
    "x = Dropout(0.5)(x)  # Add Dropout\n",
    "x = Flatten()(x)\n",
    "x = Dense(64, activation='relu')(x)\n",
    "x = Dropout(0.5)(x)  # Add Dropout"
   ]
  },
  {
   "cell_type": "code",
   "execution_count": 5,
   "id": "9e47c3f5-15e5-40ad-bea2-673225a03083",
   "metadata": {},
   "outputs": [],
   "source": [
    "# Define the input for user interactions with 7 features\n",
    "interaction_input = Input(shape=(5,), name='interaction_input')  # Use (7,) for 7 features\n",
    "\n",
    "# Process user interactions through a Dense layer\n",
    "y = Dense(64, activation='relu')(interaction_input)\n"
   ]
  },
  {
   "cell_type": "code",
   "execution_count": 6,
   "id": "4b5ca68f-7e5d-4053-a375-296cf7c5fcfd",
   "metadata": {},
   "outputs": [],
   "source": [
    "# Concatenate the outputs of both branches\n",
    "combined = Concatenate()([x, y])\n",
    "combined_reshaped = Reshape((2, 64))(combined)"
   ]
  },
  {
   "cell_type": "code",
   "execution_count": 7,
   "id": "3fa66e01-4698-467b-90e4-aca6595c5766",
   "metadata": {},
   "outputs": [],
   "source": [
    "# LSTM for sequential data\n",
    "lstm_out = LSTM(64)(combined_reshaped)"
   ]
  },
  {
   "cell_type": "code",
   "execution_count": 8,
   "id": "46359b5c-957a-404b-8cde-959c22811fe6",
   "metadata": {},
   "outputs": [],
   "source": [
    "# Output layer (you can adjust the output size as per your requirement)\n",
    "output = Dense(1, activation='linear')(lstm_out)"
   ]
  },
  {
   "cell_type": "code",
   "execution_count": 9,
   "id": "3373c9dd-e922-4213-b3d4-60d36867c859",
   "metadata": {},
   "outputs": [],
   "source": [
    "# Build the model\n",
    "model = Model(inputs=[image_input, interaction_input], outputs=output)"
   ]
  },
  {
   "cell_type": "code",
   "execution_count": 10,
   "id": "674c2135-77a8-4927-af83-23c20f490a40",
   "metadata": {},
   "outputs": [],
   "source": [
    "# Create the model with two inputs and one output\n",
    "model = Model(inputs=[image_input, interaction_input], outputs=output)"
   ]
  },
  {
   "cell_type": "code",
   "execution_count": 11,
   "id": "e4f7ba69-a683-4dfa-9423-7e139360e95b",
   "metadata": {},
   "outputs": [],
   "source": [
    "# Compile the model\n",
    "model.compile(optimizer='adam', loss='mean_squared_error', metrics=['mae'])\n"
   ]
  },
  {
   "cell_type": "code",
   "execution_count": 12,
   "id": "82689586-ff72-440a-acbd-da1d6319fbff",
   "metadata": {},
   "outputs": [
    {
     "data": {
      "text/html": [
       "<pre style=\"white-space:pre;overflow-x:auto;line-height:normal;font-family:Menlo,'DejaVu Sans Mono',consolas,'Courier New',monospace\"><span style=\"font-weight: bold\">Model: \"functional_1\"</span>\n",
       "</pre>\n"
      ],
      "text/plain": [
       "\u001b[1mModel: \"functional_1\"\u001b[0m\n"
      ]
     },
     "metadata": {},
     "output_type": "display_data"
    },
    {
     "data": {
      "text/html": [
       "<pre style=\"white-space:pre;overflow-x:auto;line-height:normal;font-family:Menlo,'DejaVu Sans Mono',consolas,'Courier New',monospace\">┏━━━━━━━━━━━━━━━━━━━━━━━━━━━━━━━┳━━━━━━━━━━━━━━━━━━━━━━━━━━━┳━━━━━━━━━━━━━━━━━┳━━━━━━━━━━━━━━━━━━━━━━━━━━━━┓\n",
       "┃<span style=\"font-weight: bold\"> Layer (type)                  </span>┃<span style=\"font-weight: bold\"> Output Shape              </span>┃<span style=\"font-weight: bold\">         Param # </span>┃<span style=\"font-weight: bold\"> Connected to               </span>┃\n",
       "┡━━━━━━━━━━━━━━━━━━━━━━━━━━━━━━━╇━━━━━━━━━━━━━━━━━━━━━━━━━━━╇━━━━━━━━━━━━━━━━━╇━━━━━━━━━━━━━━━━━━━━━━━━━━━━┩\n",
       "│ image_input (<span style=\"color: #0087ff; text-decoration-color: #0087ff\">InputLayer</span>)      │ (<span style=\"color: #00d7ff; text-decoration-color: #00d7ff\">None</span>, <span style=\"color: #00af00; text-decoration-color: #00af00\">8</span>, <span style=\"color: #00af00; text-decoration-color: #00af00\">8</span>, <span style=\"color: #00af00; text-decoration-color: #00af00\">3</span>)           │               <span style=\"color: #00af00; text-decoration-color: #00af00\">0</span> │ -                          │\n",
       "├───────────────────────────────┼───────────────────────────┼─────────────────┼────────────────────────────┤\n",
       "│ conv2d (<span style=\"color: #0087ff; text-decoration-color: #0087ff\">Conv2D</span>)               │ (<span style=\"color: #00d7ff; text-decoration-color: #00d7ff\">None</span>, <span style=\"color: #00af00; text-decoration-color: #00af00\">6</span>, <span style=\"color: #00af00; text-decoration-color: #00af00\">6</span>, <span style=\"color: #00af00; text-decoration-color: #00af00\">32</span>)          │             <span style=\"color: #00af00; text-decoration-color: #00af00\">896</span> │ image_input[<span style=\"color: #00af00; text-decoration-color: #00af00\">0</span>][<span style=\"color: #00af00; text-decoration-color: #00af00\">0</span>]          │\n",
       "├───────────────────────────────┼───────────────────────────┼─────────────────┼────────────────────────────┤\n",
       "│ dropout (<span style=\"color: #0087ff; text-decoration-color: #0087ff\">Dropout</span>)             │ (<span style=\"color: #00d7ff; text-decoration-color: #00d7ff\">None</span>, <span style=\"color: #00af00; text-decoration-color: #00af00\">6</span>, <span style=\"color: #00af00; text-decoration-color: #00af00\">6</span>, <span style=\"color: #00af00; text-decoration-color: #00af00\">32</span>)          │               <span style=\"color: #00af00; text-decoration-color: #00af00\">0</span> │ conv2d[<span style=\"color: #00af00; text-decoration-color: #00af00\">0</span>][<span style=\"color: #00af00; text-decoration-color: #00af00\">0</span>]               │\n",
       "├───────────────────────────────┼───────────────────────────┼─────────────────┼────────────────────────────┤\n",
       "│ conv2d_1 (<span style=\"color: #0087ff; text-decoration-color: #0087ff\">Conv2D</span>)             │ (<span style=\"color: #00d7ff; text-decoration-color: #00d7ff\">None</span>, <span style=\"color: #00af00; text-decoration-color: #00af00\">4</span>, <span style=\"color: #00af00; text-decoration-color: #00af00\">4</span>, <span style=\"color: #00af00; text-decoration-color: #00af00\">64</span>)          │          <span style=\"color: #00af00; text-decoration-color: #00af00\">18,496</span> │ dropout[<span style=\"color: #00af00; text-decoration-color: #00af00\">0</span>][<span style=\"color: #00af00; text-decoration-color: #00af00\">0</span>]              │\n",
       "├───────────────────────────────┼───────────────────────────┼─────────────────┼────────────────────────────┤\n",
       "│ dropout_1 (<span style=\"color: #0087ff; text-decoration-color: #0087ff\">Dropout</span>)           │ (<span style=\"color: #00d7ff; text-decoration-color: #00d7ff\">None</span>, <span style=\"color: #00af00; text-decoration-color: #00af00\">4</span>, <span style=\"color: #00af00; text-decoration-color: #00af00\">4</span>, <span style=\"color: #00af00; text-decoration-color: #00af00\">64</span>)          │               <span style=\"color: #00af00; text-decoration-color: #00af00\">0</span> │ conv2d_1[<span style=\"color: #00af00; text-decoration-color: #00af00\">0</span>][<span style=\"color: #00af00; text-decoration-color: #00af00\">0</span>]             │\n",
       "├───────────────────────────────┼───────────────────────────┼─────────────────┼────────────────────────────┤\n",
       "│ flatten (<span style=\"color: #0087ff; text-decoration-color: #0087ff\">Flatten</span>)             │ (<span style=\"color: #00d7ff; text-decoration-color: #00d7ff\">None</span>, <span style=\"color: #00af00; text-decoration-color: #00af00\">1024</span>)              │               <span style=\"color: #00af00; text-decoration-color: #00af00\">0</span> │ dropout_1[<span style=\"color: #00af00; text-decoration-color: #00af00\">0</span>][<span style=\"color: #00af00; text-decoration-color: #00af00\">0</span>]            │\n",
       "├───────────────────────────────┼───────────────────────────┼─────────────────┼────────────────────────────┤\n",
       "│ dense (<span style=\"color: #0087ff; text-decoration-color: #0087ff\">Dense</span>)                 │ (<span style=\"color: #00d7ff; text-decoration-color: #00d7ff\">None</span>, <span style=\"color: #00af00; text-decoration-color: #00af00\">64</span>)                │          <span style=\"color: #00af00; text-decoration-color: #00af00\">65,600</span> │ flatten[<span style=\"color: #00af00; text-decoration-color: #00af00\">0</span>][<span style=\"color: #00af00; text-decoration-color: #00af00\">0</span>]              │\n",
       "├───────────────────────────────┼───────────────────────────┼─────────────────┼────────────────────────────┤\n",
       "│ interaction_input             │ (<span style=\"color: #00d7ff; text-decoration-color: #00d7ff\">None</span>, <span style=\"color: #00af00; text-decoration-color: #00af00\">5</span>)                 │               <span style=\"color: #00af00; text-decoration-color: #00af00\">0</span> │ -                          │\n",
       "│ (<span style=\"color: #0087ff; text-decoration-color: #0087ff\">InputLayer</span>)                  │                           │                 │                            │\n",
       "├───────────────────────────────┼───────────────────────────┼─────────────────┼────────────────────────────┤\n",
       "│ dropout_2 (<span style=\"color: #0087ff; text-decoration-color: #0087ff\">Dropout</span>)           │ (<span style=\"color: #00d7ff; text-decoration-color: #00d7ff\">None</span>, <span style=\"color: #00af00; text-decoration-color: #00af00\">64</span>)                │               <span style=\"color: #00af00; text-decoration-color: #00af00\">0</span> │ dense[<span style=\"color: #00af00; text-decoration-color: #00af00\">0</span>][<span style=\"color: #00af00; text-decoration-color: #00af00\">0</span>]                │\n",
       "├───────────────────────────────┼───────────────────────────┼─────────────────┼────────────────────────────┤\n",
       "│ dense_1 (<span style=\"color: #0087ff; text-decoration-color: #0087ff\">Dense</span>)               │ (<span style=\"color: #00d7ff; text-decoration-color: #00d7ff\">None</span>, <span style=\"color: #00af00; text-decoration-color: #00af00\">64</span>)                │             <span style=\"color: #00af00; text-decoration-color: #00af00\">384</span> │ interaction_input[<span style=\"color: #00af00; text-decoration-color: #00af00\">0</span>][<span style=\"color: #00af00; text-decoration-color: #00af00\">0</span>]    │\n",
       "├───────────────────────────────┼───────────────────────────┼─────────────────┼────────────────────────────┤\n",
       "│ concatenate (<span style=\"color: #0087ff; text-decoration-color: #0087ff\">Concatenate</span>)     │ (<span style=\"color: #00d7ff; text-decoration-color: #00d7ff\">None</span>, <span style=\"color: #00af00; text-decoration-color: #00af00\">128</span>)               │               <span style=\"color: #00af00; text-decoration-color: #00af00\">0</span> │ dropout_2[<span style=\"color: #00af00; text-decoration-color: #00af00\">0</span>][<span style=\"color: #00af00; text-decoration-color: #00af00\">0</span>],           │\n",
       "│                               │                           │                 │ dense_1[<span style=\"color: #00af00; text-decoration-color: #00af00\">0</span>][<span style=\"color: #00af00; text-decoration-color: #00af00\">0</span>]              │\n",
       "├───────────────────────────────┼───────────────────────────┼─────────────────┼────────────────────────────┤\n",
       "│ reshape (<span style=\"color: #0087ff; text-decoration-color: #0087ff\">Reshape</span>)             │ (<span style=\"color: #00d7ff; text-decoration-color: #00d7ff\">None</span>, <span style=\"color: #00af00; text-decoration-color: #00af00\">2</span>, <span style=\"color: #00af00; text-decoration-color: #00af00\">64</span>)             │               <span style=\"color: #00af00; text-decoration-color: #00af00\">0</span> │ concatenate[<span style=\"color: #00af00; text-decoration-color: #00af00\">0</span>][<span style=\"color: #00af00; text-decoration-color: #00af00\">0</span>]          │\n",
       "├───────────────────────────────┼───────────────────────────┼─────────────────┼────────────────────────────┤\n",
       "│ lstm (<span style=\"color: #0087ff; text-decoration-color: #0087ff\">LSTM</span>)                   │ (<span style=\"color: #00d7ff; text-decoration-color: #00d7ff\">None</span>, <span style=\"color: #00af00; text-decoration-color: #00af00\">64</span>)                │          <span style=\"color: #00af00; text-decoration-color: #00af00\">33,024</span> │ reshape[<span style=\"color: #00af00; text-decoration-color: #00af00\">0</span>][<span style=\"color: #00af00; text-decoration-color: #00af00\">0</span>]              │\n",
       "├───────────────────────────────┼───────────────────────────┼─────────────────┼────────────────────────────┤\n",
       "│ dense_2 (<span style=\"color: #0087ff; text-decoration-color: #0087ff\">Dense</span>)               │ (<span style=\"color: #00d7ff; text-decoration-color: #00d7ff\">None</span>, <span style=\"color: #00af00; text-decoration-color: #00af00\">1</span>)                 │              <span style=\"color: #00af00; text-decoration-color: #00af00\">65</span> │ lstm[<span style=\"color: #00af00; text-decoration-color: #00af00\">0</span>][<span style=\"color: #00af00; text-decoration-color: #00af00\">0</span>]                 │\n",
       "└───────────────────────────────┴───────────────────────────┴─────────────────┴────────────────────────────┘\n",
       "</pre>\n"
      ],
      "text/plain": [
       "┏━━━━━━━━━━━━━━━━━━━━━━━━━━━━━━━┳━━━━━━━━━━━━━━━━━━━━━━━━━━━┳━━━━━━━━━━━━━━━━━┳━━━━━━━━━━━━━━━━━━━━━━━━━━━━┓\n",
       "┃\u001b[1m \u001b[0m\u001b[1mLayer (type)                 \u001b[0m\u001b[1m \u001b[0m┃\u001b[1m \u001b[0m\u001b[1mOutput Shape             \u001b[0m\u001b[1m \u001b[0m┃\u001b[1m \u001b[0m\u001b[1m        Param #\u001b[0m\u001b[1m \u001b[0m┃\u001b[1m \u001b[0m\u001b[1mConnected to              \u001b[0m\u001b[1m \u001b[0m┃\n",
       "┡━━━━━━━━━━━━━━━━━━━━━━━━━━━━━━━╇━━━━━━━━━━━━━━━━━━━━━━━━━━━╇━━━━━━━━━━━━━━━━━╇━━━━━━━━━━━━━━━━━━━━━━━━━━━━┩\n",
       "│ image_input (\u001b[38;5;33mInputLayer\u001b[0m)      │ (\u001b[38;5;45mNone\u001b[0m, \u001b[38;5;34m8\u001b[0m, \u001b[38;5;34m8\u001b[0m, \u001b[38;5;34m3\u001b[0m)           │               \u001b[38;5;34m0\u001b[0m │ -                          │\n",
       "├───────────────────────────────┼───────────────────────────┼─────────────────┼────────────────────────────┤\n",
       "│ conv2d (\u001b[38;5;33mConv2D\u001b[0m)               │ (\u001b[38;5;45mNone\u001b[0m, \u001b[38;5;34m6\u001b[0m, \u001b[38;5;34m6\u001b[0m, \u001b[38;5;34m32\u001b[0m)          │             \u001b[38;5;34m896\u001b[0m │ image_input[\u001b[38;5;34m0\u001b[0m][\u001b[38;5;34m0\u001b[0m]          │\n",
       "├───────────────────────────────┼───────────────────────────┼─────────────────┼────────────────────────────┤\n",
       "│ dropout (\u001b[38;5;33mDropout\u001b[0m)             │ (\u001b[38;5;45mNone\u001b[0m, \u001b[38;5;34m6\u001b[0m, \u001b[38;5;34m6\u001b[0m, \u001b[38;5;34m32\u001b[0m)          │               \u001b[38;5;34m0\u001b[0m │ conv2d[\u001b[38;5;34m0\u001b[0m][\u001b[38;5;34m0\u001b[0m]               │\n",
       "├───────────────────────────────┼───────────────────────────┼─────────────────┼────────────────────────────┤\n",
       "│ conv2d_1 (\u001b[38;5;33mConv2D\u001b[0m)             │ (\u001b[38;5;45mNone\u001b[0m, \u001b[38;5;34m4\u001b[0m, \u001b[38;5;34m4\u001b[0m, \u001b[38;5;34m64\u001b[0m)          │          \u001b[38;5;34m18,496\u001b[0m │ dropout[\u001b[38;5;34m0\u001b[0m][\u001b[38;5;34m0\u001b[0m]              │\n",
       "├───────────────────────────────┼───────────────────────────┼─────────────────┼────────────────────────────┤\n",
       "│ dropout_1 (\u001b[38;5;33mDropout\u001b[0m)           │ (\u001b[38;5;45mNone\u001b[0m, \u001b[38;5;34m4\u001b[0m, \u001b[38;5;34m4\u001b[0m, \u001b[38;5;34m64\u001b[0m)          │               \u001b[38;5;34m0\u001b[0m │ conv2d_1[\u001b[38;5;34m0\u001b[0m][\u001b[38;5;34m0\u001b[0m]             │\n",
       "├───────────────────────────────┼───────────────────────────┼─────────────────┼────────────────────────────┤\n",
       "│ flatten (\u001b[38;5;33mFlatten\u001b[0m)             │ (\u001b[38;5;45mNone\u001b[0m, \u001b[38;5;34m1024\u001b[0m)              │               \u001b[38;5;34m0\u001b[0m │ dropout_1[\u001b[38;5;34m0\u001b[0m][\u001b[38;5;34m0\u001b[0m]            │\n",
       "├───────────────────────────────┼───────────────────────────┼─────────────────┼────────────────────────────┤\n",
       "│ dense (\u001b[38;5;33mDense\u001b[0m)                 │ (\u001b[38;5;45mNone\u001b[0m, \u001b[38;5;34m64\u001b[0m)                │          \u001b[38;5;34m65,600\u001b[0m │ flatten[\u001b[38;5;34m0\u001b[0m][\u001b[38;5;34m0\u001b[0m]              │\n",
       "├───────────────────────────────┼───────────────────────────┼─────────────────┼────────────────────────────┤\n",
       "│ interaction_input             │ (\u001b[38;5;45mNone\u001b[0m, \u001b[38;5;34m5\u001b[0m)                 │               \u001b[38;5;34m0\u001b[0m │ -                          │\n",
       "│ (\u001b[38;5;33mInputLayer\u001b[0m)                  │                           │                 │                            │\n",
       "├───────────────────────────────┼───────────────────────────┼─────────────────┼────────────────────────────┤\n",
       "│ dropout_2 (\u001b[38;5;33mDropout\u001b[0m)           │ (\u001b[38;5;45mNone\u001b[0m, \u001b[38;5;34m64\u001b[0m)                │               \u001b[38;5;34m0\u001b[0m │ dense[\u001b[38;5;34m0\u001b[0m][\u001b[38;5;34m0\u001b[0m]                │\n",
       "├───────────────────────────────┼───────────────────────────┼─────────────────┼────────────────────────────┤\n",
       "│ dense_1 (\u001b[38;5;33mDense\u001b[0m)               │ (\u001b[38;5;45mNone\u001b[0m, \u001b[38;5;34m64\u001b[0m)                │             \u001b[38;5;34m384\u001b[0m │ interaction_input[\u001b[38;5;34m0\u001b[0m][\u001b[38;5;34m0\u001b[0m]    │\n",
       "├───────────────────────────────┼───────────────────────────┼─────────────────┼────────────────────────────┤\n",
       "│ concatenate (\u001b[38;5;33mConcatenate\u001b[0m)     │ (\u001b[38;5;45mNone\u001b[0m, \u001b[38;5;34m128\u001b[0m)               │               \u001b[38;5;34m0\u001b[0m │ dropout_2[\u001b[38;5;34m0\u001b[0m][\u001b[38;5;34m0\u001b[0m],           │\n",
       "│                               │                           │                 │ dense_1[\u001b[38;5;34m0\u001b[0m][\u001b[38;5;34m0\u001b[0m]              │\n",
       "├───────────────────────────────┼───────────────────────────┼─────────────────┼────────────────────────────┤\n",
       "│ reshape (\u001b[38;5;33mReshape\u001b[0m)             │ (\u001b[38;5;45mNone\u001b[0m, \u001b[38;5;34m2\u001b[0m, \u001b[38;5;34m64\u001b[0m)             │               \u001b[38;5;34m0\u001b[0m │ concatenate[\u001b[38;5;34m0\u001b[0m][\u001b[38;5;34m0\u001b[0m]          │\n",
       "├───────────────────────────────┼───────────────────────────┼─────────────────┼────────────────────────────┤\n",
       "│ lstm (\u001b[38;5;33mLSTM\u001b[0m)                   │ (\u001b[38;5;45mNone\u001b[0m, \u001b[38;5;34m64\u001b[0m)                │          \u001b[38;5;34m33,024\u001b[0m │ reshape[\u001b[38;5;34m0\u001b[0m][\u001b[38;5;34m0\u001b[0m]              │\n",
       "├───────────────────────────────┼───────────────────────────┼─────────────────┼────────────────────────────┤\n",
       "│ dense_2 (\u001b[38;5;33mDense\u001b[0m)               │ (\u001b[38;5;45mNone\u001b[0m, \u001b[38;5;34m1\u001b[0m)                 │              \u001b[38;5;34m65\u001b[0m │ lstm[\u001b[38;5;34m0\u001b[0m][\u001b[38;5;34m0\u001b[0m]                 │\n",
       "└───────────────────────────────┴───────────────────────────┴─────────────────┴────────────────────────────┘\n"
      ]
     },
     "metadata": {},
     "output_type": "display_data"
    },
    {
     "data": {
      "text/html": [
       "<pre style=\"white-space:pre;overflow-x:auto;line-height:normal;font-family:Menlo,'DejaVu Sans Mono',consolas,'Courier New',monospace\"><span style=\"font-weight: bold\"> Total params: </span><span style=\"color: #00af00; text-decoration-color: #00af00\">118,465</span> (462.75 KB)\n",
       "</pre>\n"
      ],
      "text/plain": [
       "\u001b[1m Total params: \u001b[0m\u001b[38;5;34m118,465\u001b[0m (462.75 KB)\n"
      ]
     },
     "metadata": {},
     "output_type": "display_data"
    },
    {
     "data": {
      "text/html": [
       "<pre style=\"white-space:pre;overflow-x:auto;line-height:normal;font-family:Menlo,'DejaVu Sans Mono',consolas,'Courier New',monospace\"><span style=\"font-weight: bold\"> Trainable params: </span><span style=\"color: #00af00; text-decoration-color: #00af00\">118,465</span> (462.75 KB)\n",
       "</pre>\n"
      ],
      "text/plain": [
       "\u001b[1m Trainable params: \u001b[0m\u001b[38;5;34m118,465\u001b[0m (462.75 KB)\n"
      ]
     },
     "metadata": {},
     "output_type": "display_data"
    },
    {
     "data": {
      "text/html": [
       "<pre style=\"white-space:pre;overflow-x:auto;line-height:normal;font-family:Menlo,'DejaVu Sans Mono',consolas,'Courier New',monospace\"><span style=\"font-weight: bold\"> Non-trainable params: </span><span style=\"color: #00af00; text-decoration-color: #00af00\">0</span> (0.00 B)\n",
       "</pre>\n"
      ],
      "text/plain": [
       "\u001b[1m Non-trainable params: \u001b[0m\u001b[38;5;34m0\u001b[0m (0.00 B)\n"
      ]
     },
     "metadata": {},
     "output_type": "display_data"
    }
   ],
   "source": [
    "# Display the model summary\n",
    "model.summary()"
   ]
  },
  {
   "cell_type": "code",
   "execution_count": 13,
   "id": "1284f264-d113-4d39-89c1-b0a9f51fc155",
   "metadata": {},
   "outputs": [],
   "source": [
    "# Save the trained model\n",
    "model.save('recommendation_model.keras')"
   ]
  },
  {
   "cell_type": "markdown",
   "id": "3e78c779-5114-435b-9928-76fede874b82",
   "metadata": {},
   "source": [
    "### analysis"
   ]
  },
  {
   "cell_type": "code",
   "execution_count": 14,
   "id": "084519f6-99bb-4536-9778-f98d00598194",
   "metadata": {},
   "outputs": [
    {
     "name": "stderr",
     "output_type": "stream",
     "text": [
      "C:\\Users\\ASUS\\tvenv\\Lib\\site-packages\\keras\\src\\saving\\saving_lib.py:713: UserWarning: Skipping variable loading for optimizer 'adam', because it has 28 variables whereas the saved optimizer has 2 variables. \n",
      "  saveable.load_own_variables(weights_store.get(inner_path))\n"
     ]
    }
   ],
   "source": [
    "from tensorflow.keras.models import load_model\n",
    "\n",
    "# Load the trained model\n",
    "model = load_model('recommendation_model.keras')"
   ]
  },
  {
   "cell_type": "code",
   "execution_count": 15,
   "id": "78b1c4df-522d-4dad-9dac-3e13d8f1c7c2",
   "metadata": {},
   "outputs": [],
   "source": [
    "import numpy as np\n",
    "import pandas as pd\n",
    "from sklearn.model_selection import train_test_split\n",
    "from sklearn.preprocessing import StandardScaler\n",
    "\n",
    "# Load the processed dataset (replace with the actual path to your file)\n",
    "df = pd.read_csv('dataset.csv')"
   ]
  },
  {
   "cell_type": "code",
   "execution_count": 16,
   "id": "58d3d363-8963-41f2-ad32-5f60cd07af09",
   "metadata": {},
   "outputs": [],
   "source": [
    "from sklearn.model_selection import train_test_split\n",
    "from sklearn.preprocessing import StandardScaler\n",
    "from tensorflow.keras.callbacks import EarlyStopping, ReduceLROnPlateau\n"
   ]
  },
  {
   "cell_type": "code",
   "execution_count": 17,
   "id": "e769a659-9af4-4d08-bcf1-0839e9d49ed7",
   "metadata": {},
   "outputs": [],
   "source": [
    "# Prepare interaction data (selecting relevant features)\n",
    "interaction_features = [\n",
    "    'ratings', \n",
    "    'no_of_ratings',  \n",
    "    'distance_to_user', \n",
    "    'latitude', \n",
    "    'longitude'\n",
    "]  # Features relevant for interactions"
   ]
  },
  {
   "cell_type": "code",
   "execution_count": 18,
   "id": "fcb44123-dd1a-441b-886a-b3515fa7af30",
   "metadata": {},
   "outputs": [],
   "source": [
    "# Function to clean columns by removing non-numeric characters\n",
    "def clean_column(column):\n",
    "    # Remove non-numeric characters, keeping only numbers and decimal points\n",
    "    return column.replace('[^0-9.]', '', regex=True).replace('', '0').astype(float)\n",
    "\n",
    "# Apply the cleaning function to all interaction columns\n",
    "interaction_features = ['ratings', 'no_of_ratings', 'distance_to_user', 'latitude', 'longitude']\n",
    "\n",
    "# Ensure all selected columns are cleaned\n",
    "for feature in interaction_features:\n",
    "    df[feature] = clean_column(df[feature].fillna(0))  # Fill NaN with 0 before cleaning\n"
   ]
  },
  {
   "cell_type": "code",
   "execution_count": 19,
   "id": "c544878f-80ba-4c3e-8722-e526a5650930",
   "metadata": {},
   "outputs": [],
   "source": [
    "X_interactions = df[interaction_features].fillna(0).values  # Fill NaN with 0 or appropriate value\n"
   ]
  },
  {
   "cell_type": "code",
   "execution_count": 20,
   "id": "dc543b3c-03ee-46d4-8f9d-e35e65bf05a2",
   "metadata": {},
   "outputs": [],
   "source": [
    "# Ensure all data is numeric\n",
    "X_interactions = X_interactions.astype(float)\n"
   ]
  },
  {
   "cell_type": "code",
   "execution_count": 21,
   "id": "175d1299-252b-4113-b7ce-61c82f188e51",
   "metadata": {},
   "outputs": [],
   "source": [
    "# Use 'ratings' or 'no_of_ratings' instead of 'total_user_interactions'\n",
    "# Replace 'total_user_interactions' with 'ratings' or 'no_of_ratings' as per your requirement\n",
    "y = df['no_of_ratings'].values.astype(float)  # or df['ratings'].values.astype(float)\n"
   ]
  },
  {
   "cell_type": "code",
   "execution_count": 22,
   "id": "bb127d54-c6e9-42e7-9b21-5be4686657fe",
   "metadata": {},
   "outputs": [],
   "source": [
    "# Reduce dummy image size further and change data type to float32\n",
    "dummy_image_input = np.zeros((X_interactions.shape[0], 8, 8, 3), dtype=np.float32)  # Placeholder for image input\n",
    "\n"
   ]
  },
  {
   "cell_type": "code",
   "execution_count": 23,
   "id": "6f99a673-097f-473c-81fc-8cbd6d54515c",
   "metadata": {},
   "outputs": [],
   "source": [
    "# Split the data consistently for both image and interaction inputs\n",
    "X_interactions_train, X_interactions_test, y_train, y_test, X_image_train, X_image_test = train_test_split(\n",
    "    X_interactions, y, dummy_image_input, test_size=0.2, random_state=42\n",
    ")"
   ]
  },
  {
   "cell_type": "code",
   "execution_count": 24,
   "id": "c6ea64a8-c3f4-4ef2-88bd-ed834df03e40",
   "metadata": {},
   "outputs": [],
   "source": [
    "# Scaling interaction data\n",
    "scaler = StandardScaler()\n",
    "X_interactions_train = scaler.fit_transform(X_interactions_train)\n",
    "X_interactions_test = scaler.transform(X_interactions_test)\n"
   ]
  },
  {
   "cell_type": "code",
   "execution_count": 25,
   "id": "a5e37737-e201-4045-9c73-f5c8960b167d",
   "metadata": {},
   "outputs": [],
   "source": [
    "# Scaling target variable (if it's a regression task)\n",
    "y_train = scaler.fit_transform(y_train.reshape(-1, 1)).flatten()\n",
    "y_test = scaler.transform(y_test.reshape(-1, 1)).flatten()\n"
   ]
  },
  {
   "cell_type": "code",
   "execution_count": 26,
   "id": "c425772d-2d86-4c40-82b0-9d35bbc555c6",
   "metadata": {},
   "outputs": [],
   "source": [
    "# Define callbacks\n",
    "early_stopping = EarlyStopping(monitor='val_loss', patience=3, restore_best_weights=True)\n",
    "reduce_lr = ReduceLROnPlateau(monitor='val_loss', factor=0.2, patience=2, min_lr=0.001)\n"
   ]
  },
  {
   "cell_type": "code",
   "execution_count": 27,
   "id": "8cd9a2d1-b2ee-41e0-9fd1-4a971b327d1b",
   "metadata": {},
   "outputs": [
    {
     "name": "stdout",
     "output_type": "stream",
     "text": [
      "Epoch 1/10\n",
      "\u001b[1m55159/55159\u001b[0m \u001b[32m━━━━━━━━━━━━━━━━━━━━\u001b[0m\u001b[37m\u001b[0m \u001b[1m422s\u001b[0m 8ms/step - loss: 0.1354 - mae: 0.0206 - val_loss: 0.0124 - val_mae: 0.0081 - learning_rate: 0.0010\n",
      "Epoch 2/10\n",
      "\u001b[1m55159/55159\u001b[0m \u001b[32m━━━━━━━━━━━━━━━━━━━━\u001b[0m\u001b[37m\u001b[0m \u001b[1m397s\u001b[0m 7ms/step - loss: 0.0213 - mae: 0.0084 - val_loss: 0.0161 - val_mae: 0.0368 - learning_rate: 0.0010\n",
      "Epoch 3/10\n",
      "\u001b[1m55159/55159\u001b[0m \u001b[32m━━━━━━━━━━━━━━━━━━━━\u001b[0m\u001b[37m\u001b[0m \u001b[1m397s\u001b[0m 7ms/step - loss: 0.0117 - mae: 0.0069 - val_loss: 0.0074 - val_mae: 0.0041 - learning_rate: 0.0010\n",
      "Epoch 4/10\n",
      "\u001b[1m55159/55159\u001b[0m \u001b[32m━━━━━━━━━━━━━━━━━━━━\u001b[0m\u001b[37m\u001b[0m \u001b[1m396s\u001b[0m 7ms/step - loss: 0.0108 - mae: 0.0058 - val_loss: 0.0108 - val_mae: 0.0082 - learning_rate: 0.0010\n",
      "Epoch 5/10\n",
      "\u001b[1m55159/55159\u001b[0m \u001b[32m━━━━━━━━━━━━━━━━━━━━\u001b[0m\u001b[37m\u001b[0m \u001b[1m401s\u001b[0m 7ms/step - loss: 0.0118 - mae: 0.0060 - val_loss: 0.0251 - val_mae: 0.0051 - learning_rate: 0.0010\n",
      "Epoch 6/10\n",
      "\u001b[1m55159/55159\u001b[0m \u001b[32m━━━━━━━━━━━━━━━━━━━━\u001b[0m\u001b[37m\u001b[0m \u001b[1m400s\u001b[0m 7ms/step - loss: 0.0091 - mae: 0.0049 - val_loss: 0.0319 - val_mae: 0.0053 - learning_rate: 0.0010\n"
     ]
    }
   ],
   "source": [
    "# Train the model\n",
    "history = model.fit(\n",
    "    [X_image_train, X_interactions_train],  # Inputs: dummy images + interaction data\n",
    "    y_train,\n",
    "    epochs=10,\n",
    "    batch_size=16,\n",
    "    validation_data=([X_image_test, X_interactions_test], y_test),  # Validation data\n",
    "    callbacks=[early_stopping, reduce_lr]\n",
    ")"
   ]
  },
  {
   "cell_type": "code",
   "execution_count": 28,
   "id": "8fc1f075-647d-422d-b20b-9c365813151b",
   "metadata": {},
   "outputs": [
    {
     "name": "stdout",
     "output_type": "stream",
     "text": [
      "\u001b[1m6895/6895\u001b[0m \u001b[32m━━━━━━━━━━━━━━━━━━━━\u001b[0m\u001b[37m\u001b[0m \u001b[1m21s\u001b[0m 3ms/step - loss: 0.0107 - mae: 0.0043\n",
      "Test Loss: 0.0074, Test MAE: 0.0041\n"
     ]
    }
   ],
   "source": [
    "# Step 1: Evaluate on the Test Set\n",
    "test_loss, test_mae = model.evaluate([X_image_test, X_interactions_test], y_test)\n",
    "print(f\"Test Loss: {test_loss:.4f}, Test MAE: {test_mae:.4f}\")\n"
   ]
  },
  {
   "cell_type": "code",
   "execution_count": 29,
   "id": "6a040979-c2f7-40ed-b02f-5680ea86c969",
   "metadata": {},
   "outputs": [
    {
     "name": "stdout",
     "output_type": "stream",
     "text": [
      "\u001b[1m6895/6895\u001b[0m \u001b[32m━━━━━━━━━━━━━━━━━━━━\u001b[0m\u001b[37m\u001b[0m \u001b[1m24s\u001b[0m 3ms/step\n"
     ]
    }
   ],
   "source": [
    "# Step 2: Generate Predictions\n",
    "predicted_scores = model.predict([X_image_test, X_interactions_test])"
   ]
  },
  {
   "cell_type": "code",
   "execution_count": 30,
   "id": "5b692689-f934-4860-ae21-9c98355d6f8a",
   "metadata": {},
   "outputs": [
    {
     "name": "stdout",
     "output_type": "stream",
     "text": [
      "Mean Absolute Error: 0.0041\n",
      "Mean Squared Error: 0.0074\n",
      "R^2 Score: 0.9942\n"
     ]
    }
   ],
   "source": [
    "# Step 3: Compute Accuracy or other relevant metrics\n",
    "# For a regression task, calculating R^2 or comparing MAE might be more meaningful.\n",
    "from sklearn.metrics import mean_absolute_error, mean_squared_error, r2_score\n",
    "\n",
    "mae = mean_absolute_error(y_test, predicted_scores)\n",
    "mse = mean_squared_error(y_test, predicted_scores)\n",
    "r2 = r2_score(y_test, predicted_scores)\n",
    "\n",
    "print(f\"Mean Absolute Error: {mae:.4f}\")\n",
    "print(f\"Mean Squared Error: {mse:.4f}\")\n",
    "print(f\"R^2 Score: {r2:.4f}\")"
   ]
  },
  {
   "cell_type": "code",
   "execution_count": 31,
   "id": "79f208ce-970f-4937-856f-f81d59acdf49",
   "metadata": {},
   "outputs": [],
   "source": [
    "# If you want to compute accuracy based on a threshold:\n",
    "threshold = 0.5  # Define a threshold if converting regression output to binary classification\n",
    "predicted_labels = (predicted_scores >= threshold).astype(int)\n",
    "actual_labels = (y_test >= threshold).astype(int)"
   ]
  },
  {
   "cell_type": "code",
   "execution_count": 32,
   "id": "b3eadc07-eb36-487b-8d69-47ea8913fec1",
   "metadata": {},
   "outputs": [],
   "source": [
    "#Confusion Matrix and Accuracy\n",
    "from sklearn.metrics import accuracy_score, confusion_matrix\n",
    "\n",
    "accuracy = accuracy_score(actual_labels, predicted_labels)\n",
    "conf_matrix = confusion_matrix(actual_labels, predicted_labels)"
   ]
  },
  {
   "cell_type": "code",
   "execution_count": 33,
   "id": "7f7a3b7c-f466-4d9f-a0f1-f6af83c1422e",
   "metadata": {},
   "outputs": [
    {
     "name": "stdout",
     "output_type": "stream",
     "text": [
      "Accuracy: 0.9995\n",
      "Confusion Matrix:\n",
      "[[216230    110]\n",
      " [     0   4294]]\n"
     ]
    }
   ],
   "source": [
    "print(f\"Accuracy: {accuracy:.4f}\")\n",
    "print(\"Confusion Matrix:\")\n",
    "print(conf_matrix)"
   ]
  },
  {
   "cell_type": "code",
   "execution_count": 46,
   "id": "d2f6fc36-239c-4c26-baae-c3c00e05f1b3",
   "metadata": {},
   "outputs": [
    {
     "name": "stdout",
     "output_type": "stream",
     "text": [
      "\n",
      "Classification Report:\n",
      "              precision    recall  f1-score   support\n",
      "\n",
      "           0       1.00      1.00      1.00    216340\n",
      "           1       0.98      1.00      0.99      4294\n",
      "\n",
      "    accuracy                           1.00    220634\n",
      "   macro avg       0.99      1.00      0.99    220634\n",
      "weighted avg       1.00      1.00      1.00    220634\n",
      "\n"
     ]
    },
    {
     "data": {
      "image/png": "[encoded data removed]",
      "text/plain": [
       "<Figure size 800x600 with 2 Axes>"
      ]
     },
     "metadata": {},
     "output_type": "display_data"
    }
   ],
   "source": [
    "import numpy as np\n",
    "import seaborn as sns\n",
    "import matplotlib.pyplot as plt\n",
    "from sklearn.metrics import accuracy_score, confusion_matrix, classification_report\n",
    "\n",
    "# Assuming you already have actual_labels and predicted_labels\n",
    "accuracy = accuracy_score(actual_labels, predicted_labels)\n",
    "conf_matrix = confusion_matrix(actual_labels, predicted_labels)\n",
    "# Optionally, print a classification report for more detailed metrics\n",
    "print('\\nClassification Report:')\n",
    "print(classification_report(actual_labels, predicted_labels))\n",
    "\n",
    "# Plotting the confusion matrix\n",
    "plt.figure(figsize=(8, 6))\n",
    "sns.heatmap(conf_matrix, annot=True, fmt='d', cmap='Blues', \n",
    "            xticklabels=np.unique(actual_labels), \n",
    "            yticklabels=np.unique(actual_labels))\n",
    "plt.title(f'Confusion Matrix\\nAccuracy: {accuracy:.2f}')\n",
    "plt.xlabel('Predicted Labels')\n",
    "plt.ylabel('True Labels')\n",
    "plt.show()\n"
   ]
  },
  {
   "cell_type": "markdown",
   "id": "51b51d0c-815c-4ba5-88d6-a9d9dd880041",
   "metadata": {},
   "source": [
    "### recommendation"
   ]
  },
  {
   "cell_type": "code",
   "execution_count": 40,
   "id": "a2b3a8fc-5747-4031-a5dd-81d6c0356ebd",
   "metadata": {},
   "outputs": [
    {
     "name": "stdout",
     "output_type": "stream",
     "text": [
      "                                                     name actual_price  \\\n",
      "697451  KARAGIRI Women's Woven Linen Saree with Blouse...      ₹17,799   \n",
      "572224  Neelja Women Shorts with Pockets Elastic Waist...         ₹799   \n",
      "485323  DIGITUS CRUCIS Men's Running Walking Sports Gy...         ₹999   \n",
      "353319  Shiva Ratan Kendra Haridwar 100% Pure Four(4) ...         ₹500   \n",
      "787827  Meyaar DG-Beex Pack of 2 Headset with High Bas...         ₹999   \n",
      "\n",
      "       discount_price ratings  source_category  distance_to_user  \n",
      "697451         ₹3,723     5.0      Ethnic Wear          9.134941  \n",
      "572224           ₹249     3.1  Amazon-Products          9.134941  \n",
      "485323           ₹419     2.0  Amazon-Products          9.134941  \n",
      "353319           ₹199     NaN  Amazon-Products          9.134941  \n",
      "787827           ₹249     3.8       Headphones          9.134941  \n"
     ]
    }
   ],
   "source": [
    "import numpy as np\n",
    "import pandas as pd\n",
    "from sklearn.preprocessing import StandardScaler\n",
    "\n",
    "# Load the dataset into a DataFrame\n",
    "data = pd.read_csv(\"dataset.csv\")  # Replace with your dataset path\n",
    "\n",
    "# Features for the model (latitude, longitude, distance, and source_category)\n",
    "features = ['latitude', 'longitude', 'distance_to_user', 'source_category']\n",
    "\n",
    "# Preprocessing: Standardizing numerical values\n",
    "scaler = StandardScaler()\n",
    "X = scaler.fit_transform(data[['latitude', 'longitude', 'distance_to_user']])\n",
    "\n",
    "# Function to recommend products based on user location and source_category\n",
    "def recommend_products(user_lat, user_lon, data, top_n=5):\n",
    "    \"\"\"\n",
    "    Recommends products based on user location and other product features.\n",
    "    \n",
    "    Parameters:\n",
    "    user_lat (float): Latitude of the user.\n",
    "    user_lon (float): Longitude of the user.\n",
    "    data (pd.DataFrame): Data containing product details.\n",
    "    top_n (int): Number of top products to recommend.\n",
    "\n",
    "    Returns:\n",
    "    pd.DataFrame: Top N recommended products with relevant details.\n",
    "    \"\"\"\n",
    "    # Calculate the distance between the user and the product locations\n",
    "    data['distance_to_user'] = np.sqrt((data['latitude'] - user_lat)**2 + (data['longitude'] - user_lon)**2)\n",
    "    \n",
    "    # No normalization required for source_category, using directly\n",
    "    data['score'] = -data['distance_to_user']  # Closer items get a higher score\n",
    "\n",
    "    # Sort products by score in ascending order (closer products first)\n",
    "    recommended_products = data.sort_values(by='score', ascending=False).head(top_n)\n",
    "    \n",
    "    # Return product details for the recommendations, with prices as strings\n",
    "    return recommended_products[['name', 'actual_price', 'discount_price','ratings', 'source_category', 'distance_to_user']]\n",
    "\n",
    "# Example usage:\n",
    "user_lat, user_lon = 22.474388, 60.503990  # Example coordinates\n",
    "recommendations = recommend_products(user_lat, user_lon, data)\n",
    "print(recommendations)\n",
    "\n"
   ]
  },
  {
   "cell_type": "code",
   "execution_count": null,
   "id": "97b6e44a-3f97-4e24-ba3c-e8853f1e4098",
   "metadata": {},
   "outputs": [],
   "source": []
  }
 ],
 "metadata": {
  "kernelspec": {
   "display_name": "tfwkernel",
   "language": "python",
   "name": "tfwkernel"
  },
  "language_info": {
   "codemirror_mode": {
    "name": "ipython",
    "version": 3
   },
   "file_extension": ".py",
   "mimetype": "text/x-python",
   "name": "python",
   "nbconvert_exporter": "python",
   "pygments_lexer": "ipython3",
   "version": "3.12.3"
  }
 },
 "nbformat": 4,
 "nbformat_minor": 5
}
