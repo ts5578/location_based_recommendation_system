{
 "cells": [
  {
   "cell_type": "code",
   "execution_count": 5,
   "id": "6f5d3372-f1f1-49a5-b8eb-4b76aa71b74a",
   "metadata": {},
   "outputs": [
    {
     "data": {
      "text/plain": [
       "'C:\\\\Users\\\\ASUS'"
      ]
     },
     "execution_count": 5,
     "metadata": {},
     "output_type": "execute_result"
    }
   ],
   "source": [
    "pwd"
   ]
  },
  {
   "cell_type": "code",
   "execution_count": 1,
   "id": "c7b9bcf3-4515-450a-92a1-436fde60b5b5",
   "metadata": {},
   "outputs": [
    {
     "name": "stdout",
     "output_type": "stream",
     "text": [
      "   index                           Uniq Id            Crawl Timestamp  \\\n",
      "0      0  eb49cc038190f6f03c272f79fbbce894  2019-10-30 11:38:11 +0000   \n",
      "1      1  1657cc30c438affede6a5060d6847363  2019-10-31 15:46:54 +0000   \n",
      "2      2  41654633cce38c8650690f6dbac01fd3  2019-10-30 09:53:23 +0000   \n",
      "3      3  08b1bd85c3efc2d7aa556fd79b073382  2019-10-29 16:16:52 +0000   \n",
      "4      4  3ac3f213732512d1d11bb73ab3b1900f  2019-10-31 09:32:06 +0000   \n",
      "\n",
      "                  Category                                      Product Title  \\\n",
      "0                Skin Care   Lee posh Lactic Acid 60% Anti ageing Pigmenta...   \n",
      "1                Skin Care   Branded SLB Works New 1.5mm Titanium 1200 nee...   \n",
      "2                Skin Care   Generic 1 Pc brand snail eye cream remove dar...   \n",
      "3                Skin Care   Generic Anti Snoring Snore Stopper Sleep Apne...   \n",
      "4  Grocery & Gourmet Foods   Harveys Crunchy & Creame Gourmet Delicacies C...   \n",
      "\n",
      "                                 Product Description      Brand  \\\n",
      "0  PROFESSIONAL GRADE Face Peel: this peel stimul...   Lee Posh   \n",
      "1  Item name: 1.5mm titanium 1200 needles microne...  SLB Works   \n",
      "2  Use: eye, item type: cream, net wt: 20g, gzzz:...    Generic   \n",
      "3  Prevent the tongue from dropping backward or b...    Generic   \n",
      "4     Harvey's wafer Cream Wafer 110g. Made in India    Harveys   \n",
      "\n",
      "  Pack Size Or Quantity      Mrp    Price  Site Name  Offers Combo Offers  \\\n",
      "0                   NaN  2000.00   799.00  Amazon In  60.05%          NaN   \n",
      "1                   NaN  2040.00  2040.00  Amazon In      0%          NaN   \n",
      "2                   NaN  1824.00  1042.00  Amazon In  42.87%          NaN   \n",
      "3                   NaN  2185.00  1399.00  Amazon In  35.97%          NaN   \n",
      "4                   NaN   594.00   570.00  Amazon In   4.04%          NaN   \n",
      "\n",
      "  Stock Availibility Product Asin  \\\n",
      "0                YES   B072BGHNJ1   \n",
      "1                YES   B07QDTZYSJ   \n",
      "2                YES   B07DCSN8MP   \n",
      "3                YES   B07GLW9VQN   \n",
      "4                YES   B07NFYYLF1   \n",
      "\n",
      "                                          Image Urls          city   latitude  \\\n",
      "0  https://images-na.ssl-images-amazon.com/images...      Kakinada  16.960361   \n",
      "1  https://images-na.ssl-images-amazon.com/images...     Davangere  14.469237   \n",
      "2  https://images-na.ssl-images-amazon.com/images...  Vizianagaram  18.113290   \n",
      "3  https://images-na.ssl-images-amazon.com/images...  Krishnanagar  23.405761   \n",
      "4  https://images-na.ssl-images-amazon.com/images...          Puri  19.798254   \n",
      "\n",
      "   longitude  \n",
      "0  82.238086  \n",
      "1  75.923750  \n",
      "2  83.397743  \n",
      "3  88.490733  \n",
      "4  85.824938  \n"
     ]
    }
   ],
   "source": [
    "import pandas as pd\n",
    "\n",
    "# Load the newly created product dataset\n",
    "product_df = pd.read_csv('project_dataset.csv')\n",
    "\n",
    "# Check the first few rows\n",
    "print(product_df.head())\n"
   ]
  },
  {
   "cell_type": "code",
   "execution_count": 3,
   "id": "44a26912-8a11-45b8-b351-0f31da01303c",
   "metadata": {},
   "outputs": [
    {
     "name": "stdout",
     "output_type": "stream",
     "text": [
      "                                       Product Title          city  \\\n",
      "0   Lee posh Lactic Acid 60% Anti ageing Pigmenta...      Kakinada   \n",
      "1   Branded SLB Works New 1.5mm Titanium 1200 nee...     Davangere   \n",
      "2   Generic 1 Pc brand snail eye cream remove dar...  Vizianagaram   \n",
      "3   Generic Anti Snoring Snore Stopper Sleep Apne...  Krishnanagar   \n",
      "4   Harveys Crunchy & Creame Gourmet Delicacies C...          Puri   \n",
      "\n",
      "   distance_to_user  \n",
      "0       1018.318156  \n",
      "1        604.402774  \n",
      "2       1115.256910  \n",
      "3       1688.917413  \n",
      "4       1361.656576  \n"
     ]
    }
   ],
   "source": [
    "from geopy.distance import geodesic\n",
    "\n",
    "# Example of user's real-time location (e.g., user in Mumbai)\n",
    "user_location = (19.0760, 72.8777)  # (latitude, longitude)\n",
    "\n",
    "# Define a function to calculate distance\n",
    "def calculate_distance(row, user_location):\n",
    "    product_location = (row['latitude'], row['longitude'])\n",
    "    return geodesic(user_location, product_location).kilometers\n",
    "\n",
    "# Apply the function to calculate distance and add a new feature 'distance_to_user'\n",
    "product_df['distance_to_user'] = product_df.apply(lambda row: calculate_distance(row, user_location), axis=1)\n",
    "\n",
    "# Check the updated dataset with distance feature\n",
    "print(product_df[['Product Title', 'city', 'distance_to_user']].head())\n"
   ]
  },
  {
   "cell_type": "markdown",
   "id": "a6663d0f-6a27-4304-9cc8-bed959f339c7",
   "metadata": {},
   "source": [
    "Category Encoding"
   ]
  },
  {
   "cell_type": "code",
   "execution_count": 5,
   "id": "25b2223b-8f0b-41d3-b6df-6a49ca7bd6d5",
   "metadata": {},
   "outputs": [
    {
     "name": "stdout",
     "output_type": "stream",
     "text": [
      "   index                           Uniq Id            Crawl Timestamp  \\\n",
      "0      0  eb49cc038190f6f03c272f79fbbce894  2019-10-30 11:38:11 +0000   \n",
      "1      1  1657cc30c438affede6a5060d6847363  2019-10-31 15:46:54 +0000   \n",
      "2      2  41654633cce38c8650690f6dbac01fd3  2019-10-30 09:53:23 +0000   \n",
      "3      3  08b1bd85c3efc2d7aa556fd79b073382  2019-10-29 16:16:52 +0000   \n",
      "4      4  3ac3f213732512d1d11bb73ab3b1900f  2019-10-31 09:32:06 +0000   \n",
      "\n",
      "                                       Product Title  \\\n",
      "0   Lee posh Lactic Acid 60% Anti ageing Pigmenta...   \n",
      "1   Branded SLB Works New 1.5mm Titanium 1200 nee...   \n",
      "2   Generic 1 Pc brand snail eye cream remove dar...   \n",
      "3   Generic Anti Snoring Snore Stopper Sleep Apne...   \n",
      "4   Harveys Crunchy & Creame Gourmet Delicacies C...   \n",
      "\n",
      "                                 Product Description      Brand  \\\n",
      "0  PROFESSIONAL GRADE Face Peel: this peel stimul...   Lee Posh   \n",
      "1  Item name: 1.5mm titanium 1200 needles microne...  SLB Works   \n",
      "2  Use: eye, item type: cream, net wt: 20g, gzzz:...    Generic   \n",
      "3  Prevent the tongue from dropping backward or b...    Generic   \n",
      "4     Harvey's wafer Cream Wafer 110g. Made in India    Harveys   \n",
      "\n",
      "  Pack Size Or Quantity      Mrp    Price  Site Name  ...  \\\n",
      "0                   NaN  2000.00   799.00  Amazon In  ...   \n",
      "1                   NaN  2040.00  2040.00  Amazon In  ...   \n",
      "2                   NaN  1824.00  1042.00  Amazon In  ...   \n",
      "3                   NaN  2185.00  1399.00  Amazon In  ...   \n",
      "4                   NaN   594.00   570.00  Amazon In  ...   \n",
      "\n",
      "                                          Image Urls          city   latitude  \\\n",
      "0  https://images-na.ssl-images-amazon.com/images...      Kakinada  16.960361   \n",
      "1  https://images-na.ssl-images-amazon.com/images...     Davangere  14.469237   \n",
      "2  https://images-na.ssl-images-amazon.com/images...  Vizianagaram  18.113290   \n",
      "3  https://images-na.ssl-images-amazon.com/images...  Krishnanagar  23.405761   \n",
      "4  https://images-na.ssl-images-amazon.com/images...          Puri  19.798254   \n",
      "\n",
      "   longitude distance_to_user Category_Detergents & Dishwash  \\\n",
      "0  82.238086      1018.318156                          False   \n",
      "1  75.923750       604.402774                          False   \n",
      "2  83.397743      1115.256910                          False   \n",
      "3  88.490733      1688.917413                          False   \n",
      "4  85.824938      1361.656576                          False   \n",
      "\n",
      "   Category_Fragrance  Category_Grocery & Gourmet Foods  Category_Hair Care  \\\n",
      "0               False                             False               False   \n",
      "1               False                             False               False   \n",
      "2               False                             False               False   \n",
      "3               False                             False               False   \n",
      "4               False                              True               False   \n",
      "\n",
      "   Category_Skin Care  \n",
      "0                True  \n",
      "1                True  \n",
      "2                True  \n",
      "3                True  \n",
      "4               False  \n",
      "\n",
      "[5 rows x 24 columns]\n"
     ]
    }
   ],
   "source": [
    "# Convert categorical column (e.g., 'category') into one-hot encoded columns\n",
    "product_df = pd.get_dummies(product_df, columns=['Category'], drop_first=True)\n",
    "\n",
    "# Check the one-hot encoded dataset\n",
    "print(product_df.head())\n"
   ]
  },
  {
   "cell_type": "code",
   "execution_count": 7,
   "id": "b6ce0f49-e570-4d2c-bfec-4ad57c04a33a",
   "metadata": {},
   "outputs": [
    {
     "name": "stdout",
     "output_type": "stream",
     "text": [
      "      Mrp   Price  discount_percentage\n",
      "0  2000.0   799.0            60.050000\n",
      "1  2040.0  2040.0             0.000000\n",
      "2  1824.0  1042.0            42.872807\n",
      "3  2185.0  1399.0            35.972540\n",
      "4   594.0   570.0             4.040404\n"
     ]
    }
   ],
   "source": [
    "import pandas as pd\n",
    "\n",
    "# Assuming product_df is your DataFrame\n",
    "\n",
    "# Convert 'MRP' and 'price' columns to numeric (float or integer)\n",
    "product_df['Mrp'] = pd.to_numeric(product_df['Mrp'], errors='coerce')\n",
    "product_df['Price'] = pd.to_numeric(product_df['Price'], errors='coerce')\n",
    "\n",
    "# Check for NaN values and handle if necessary (optional)\n",
    "# For example, you can fill NaN with 0 or the mean value of the column\n",
    "# product_df['MRP'].fillna(0, inplace=True)\n",
    "# product_df['price'].fillna(0, inplace=True)\n",
    "\n",
    "# Create the discount percentage column after conversion\n",
    "product_df['discount_percentage'] = ((product_df['Mrp'] - product_df['Price']) / product_df['Mrp']) * 100\n",
    "\n",
    "# Check the result\n",
    "print(product_df[['Mrp', 'Price', 'discount_percentage']].head())\n"
   ]
  },
  {
   "cell_type": "code",
   "execution_count": 8,
   "id": "3e03cc12-d824-467c-8df8-325cdcca9aef",
   "metadata": {},
   "outputs": [
    {
     "name": "stdout",
     "output_type": "stream",
     "text": [
      "                                       Product Title     Price\n",
      "0   Lee posh Lactic Acid 60% Anti ageing Pigmenta...  0.035809\n",
      "1   Branded SLB Works New 1.5mm Titanium 1200 nee...  0.092274\n",
      "2   Generic 1 Pc brand snail eye cream remove dar...  0.046865\n",
      "3   Generic Anti Snoring Snore Stopper Sleep Apne...  0.063109\n",
      "4   Harveys Crunchy & Creame Gourmet Delicacies C...  0.025389\n"
     ]
    }
   ],
   "source": [
    "# Normalize the 'price' column using Min-Max scaling\n",
    "product_df['Price'] = (product_df['Price'] - product_df['Price'].min()) / (product_df['Price'].max() - product_df['Price'].min())\n",
    "\n",
    "# Check the normalized price values\n",
    "print(product_df[['Product Title', 'Price']].head())\n"
   ]
  },
  {
   "cell_type": "code",
   "execution_count": 9,
   "id": "6dda2b10-09e7-4875-8be2-4d73985b8f19",
   "metadata": {},
   "outputs": [
    {
     "name": "stdout",
     "output_type": "stream",
     "text": [
      "              Price           Mrp\n",
      "count  29339.000000  29240.000000\n",
      "mean       0.091509   2521.521115\n",
      "std        0.105473   3094.767306\n",
      "min        0.000000     12.000000\n",
      "25%        0.016926    520.000000\n",
      "50%        0.040768   1182.000000\n",
      "75%        0.136773   3554.250000\n",
      "max        1.000000  80000.000000\n"
     ]
    }
   ],
   "source": [
    "# Check for outliers using summary statistics\n",
    "print(product_df[['Price', 'Mrp']].describe())\n"
   ]
  },
  {
   "cell_type": "code",
   "execution_count": 10,
   "id": "b5781989-558a-4aa1-8065-a4e8bb46b1a2",
   "metadata": {},
   "outputs": [
    {
     "name": "stdout",
     "output_type": "stream",
     "text": [
      "   index                           Uniq Id            Crawl Timestamp  \\\n",
      "0      0  eb49cc038190f6f03c272f79fbbce894  2019-10-30 11:38:11 +0000   \n",
      "1      1  1657cc30c438affede6a5060d6847363  2019-10-31 15:46:54 +0000   \n",
      "2      2  41654633cce38c8650690f6dbac01fd3  2019-10-30 09:53:23 +0000   \n",
      "3      3  08b1bd85c3efc2d7aa556fd79b073382  2019-10-29 16:16:52 +0000   \n",
      "4      4  3ac3f213732512d1d11bb73ab3b1900f  2019-10-31 09:32:06 +0000   \n",
      "\n",
      "                                       Product Title  \\\n",
      "0   Lee posh Lactic Acid 60% Anti ageing Pigmenta...   \n",
      "1   Branded SLB Works New 1.5mm Titanium 1200 nee...   \n",
      "2   Generic 1 Pc brand snail eye cream remove dar...   \n",
      "3   Generic Anti Snoring Snore Stopper Sleep Apne...   \n",
      "4   Harveys Crunchy & Creame Gourmet Delicacies C...   \n",
      "\n",
      "                                 Product Description      Brand  \\\n",
      "0  PROFESSIONAL GRADE Face Peel: this peel stimul...   Lee Posh   \n",
      "1  Item name: 1.5mm titanium 1200 needles microne...  SLB Works   \n",
      "2  Use: eye, item type: cream, net wt: 20g, gzzz:...    Generic   \n",
      "3  Prevent the tongue from dropping backward or b...    Generic   \n",
      "4     Harvey's wafer Cream Wafer 110g. Made in India    Harveys   \n",
      "\n",
      "  Pack Size Or Quantity     Mrp     Price  Site Name  ...          city  \\\n",
      "0                   NaN  2000.0  0.035809  Amazon In  ...      Kakinada   \n",
      "1                   NaN  2040.0  0.092274  Amazon In  ...     Davangere   \n",
      "2                   NaN  1824.0  0.046865  Amazon In  ...  Vizianagaram   \n",
      "3                   NaN  2185.0  0.063109  Amazon In  ...  Krishnanagar   \n",
      "4                   NaN   594.0  0.025389  Amazon In  ...          Puri   \n",
      "\n",
      "    latitude  longitude distance_to_user Category_Detergents & Dishwash  \\\n",
      "0  16.960361  82.238086      1018.318156                          False   \n",
      "1  14.469237  75.923750       604.402774                          False   \n",
      "2  18.113290  83.397743      1115.256910                          False   \n",
      "3  23.405761  88.490733      1688.917413                          False   \n",
      "4  19.798254  85.824938      1361.656576                          False   \n",
      "\n",
      "  Category_Fragrance  Category_Grocery & Gourmet Foods  Category_Hair Care  \\\n",
      "0              False                             False               False   \n",
      "1              False                             False               False   \n",
      "2              False                             False               False   \n",
      "3              False                             False               False   \n",
      "4              False                              True               False   \n",
      "\n",
      "   Category_Skin Care  discount_percentage  \n",
      "0                True            60.050000  \n",
      "1                True             0.000000  \n",
      "2                True            42.872807  \n",
      "3                True            35.972540  \n",
      "4               False             4.040404  \n",
      "\n",
      "[5 rows x 25 columns]\n"
     ]
    }
   ],
   "source": [
    "print(product_df.head())"
   ]
  },
  {
   "cell_type": "code",
   "execution_count": 11,
   "id": "d48aab99-c3e5-4c98-b757-31515bb19c0c",
   "metadata": {},
   "outputs": [],
   "source": [
    "# Save the updated dataset to a new CSV file\n",
    "product_df.to_csv('processed_project_Dataset.csv', index=False)\n"
   ]
  },
  {
   "cell_type": "code",
   "execution_count": null,
   "id": "5c919fbb-adad-41ec-9592-eab20861abdd",
   "metadata": {},
   "outputs": [],
   "source": []
  }
 ],
 "metadata": {
  "kernelspec": {
   "display_name": "Python 3 (ipykernel)",
   "language": "python",
   "name": "python3"
  },
  "language_info": {
   "codemirror_mode": {
    "name": "ipython",
    "version": 3
   },
   "file_extension": ".py",
   "mimetype": "text/x-python",
   "name": "python",
   "nbconvert_exporter": "python",
   "pygments_lexer": "ipython3",
   "version": "3.12.3"
  }
 },
 "nbformat": 4,
 "nbformat_minor": 5
}
