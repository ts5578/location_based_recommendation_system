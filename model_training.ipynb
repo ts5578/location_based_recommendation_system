{
 "cells": [
  {
   "cell_type": "code",
   "execution_count": 7,
   "id": "86b25a16-ba6a-4e92-a809-1e26ae39b63f",
   "metadata": {},
   "outputs": [
    {
     "name": "stdout",
     "output_type": "stream",
     "text": [
      "Requirement already satisfied: geopy in c:\\users\\asus\\appdata\\local\\programs\\python\\python312\\lib\\site-packages (2.4.1)\n",
      "Requirement already satisfied: geographiclib<3,>=1.52 in c:\\users\\asus\\appdata\\local\\programs\\python\\python312\\lib\\site-packages (from geopy) (2.0)\n"
     ]
    }
   ],
   "source": [
    "!pip install geopy"
   ]
  },
  {
   "cell_type": "code",
   "execution_count": 8,
   "id": "a479c0d7-7476-49b7-a583-1209537454fb",
   "metadata": {},
   "outputs": [],
   "source": [
    "import geopy"
   ]
  },
  {
   "cell_type": "code",
   "execution_count": 9,
   "id": "41ccaeeb-8d5e-4b4d-8aa5-b6d6706604cd",
   "metadata": {},
   "outputs": [
    {
     "name": "stdout",
     "output_type": "stream",
     "text": [
      "Requirement already satisfied: pandas in c:\\users\\asus\\tvenv\\lib\\site-packages (2.2.2)\n",
      "Requirement already satisfied: numpy>=1.26.0 in c:\\users\\asus\\tvenv\\lib\\site-packages (from pandas) (1.26.4)\n",
      "Requirement already satisfied: python-dateutil>=2.8.2 in c:\\users\\asus\\tvenv\\lib\\site-packages (from pandas) (2.9.0.post0)\n",
      "Requirement already satisfied: pytz>=2020.1 in c:\\users\\asus\\tvenv\\lib\\site-packages (from pandas) (2024.2)\n",
      "Requirement already satisfied: tzdata>=2022.7 in c:\\users\\asus\\tvenv\\lib\\site-packages (from pandas) (2024.1)\n",
      "Requirement already satisfied: six>=1.5 in c:\\users\\asus\\tvenv\\lib\\site-packages (from python-dateutil>=2.8.2->pandas) (1.16.0)\n",
      "Note: you may need to restart the kernel to use updated packages.\n"
     ]
    }
   ],
   "source": [
    "pip install pandas\n"
   ]
  },
  {
   "cell_type": "code",
   "execution_count": 10,
   "id": "4c8a40de-526c-4ed3-9a39-3d1cbcfcdc2c",
   "metadata": {},
   "outputs": [
    {
     "name": "stdout",
     "output_type": "stream",
     "text": [
      "Requirement already satisfied: pip in c:\\users\\asus\\tvenv\\lib\\site-packages (24.2)\n",
      "Note: you may need to restart the kernel to use updated packages.\n"
     ]
    }
   ],
   "source": [
    "pip install --upgrade pip"
   ]
  },
  {
   "cell_type": "code",
   "execution_count": 11,
   "id": "a791c795-b959-4ea6-8dc7-61f148e7e394",
   "metadata": {},
   "outputs": [
    {
     "name": "stdout",
     "output_type": "stream",
     "text": [
      "   index                           Uniq Id            Crawl Timestamp  \\\n",
      "0      0  eb49cc038190f6f03c272f79fbbce894  2019-10-30 11:38:11 +0000   \n",
      "1      1  1657cc30c438affede6a5060d6847363  2019-10-31 15:46:54 +0000   \n",
      "2      2  41654633cce38c8650690f6dbac01fd3  2019-10-30 09:53:23 +0000   \n",
      "3      3  08b1bd85c3efc2d7aa556fd79b073382  2019-10-29 16:16:52 +0000   \n",
      "4      4  3ac3f213732512d1d11bb73ab3b1900f  2019-10-31 09:32:06 +0000   \n",
      "\n",
      "                                       Product Title  \\\n",
      "0   Lee posh Lactic Acid 60% Anti ageing Pigmenta...   \n",
      "1   Branded SLB Works New 1.5mm Titanium 1200 nee...   \n",
      "2   Generic 1 Pc brand snail eye cream remove dar...   \n",
      "3   Generic Anti Snoring Snore Stopper Sleep Apne...   \n",
      "4   Harveys Crunchy & Creame Gourmet Delicacies C...   \n",
      "\n",
      "                                 Product Description      Brand  \\\n",
      "0  PROFESSIONAL GRADE Face Peel: this peel stimul...   Lee Posh   \n",
      "1  Item name: 1.5mm titanium 1200 needles microne...  SLB Works   \n",
      "2  Use: eye, item type: cream, net wt: 20g, gzzz:...    Generic   \n",
      "3  Prevent the tongue from dropping backward or b...    Generic   \n",
      "4     Harvey's wafer Cream Wafer 110g. Made in India    Harveys   \n",
      "\n",
      "  Pack Size Or Quantity     Mrp     Price  Site Name  ...   latitude  \\\n",
      "0                   NaN  2000.0  0.035809  Amazon In  ...  16.960361   \n",
      "1                   NaN  2040.0  0.092274  Amazon In  ...  14.469237   \n",
      "2                   NaN  1824.0  0.046865  Amazon In  ...  18.113290   \n",
      "3                   NaN  2185.0  0.063109  Amazon In  ...  23.405761   \n",
      "4                   NaN   594.0  0.025389  Amazon In  ...  19.798254   \n",
      "\n",
      "   longitude distance_to_user Category_Detergents & Dishwash  \\\n",
      "0  82.238086      1018.318156                          False   \n",
      "1  75.923750       604.402774                          False   \n",
      "2  83.397743      1115.256910                          False   \n",
      "3  88.490733      1688.917413                          False   \n",
      "4  85.824938      1361.656576                          False   \n",
      "\n",
      "  Category_Fragrance Category_Grocery & Gourmet Foods  Category_Hair Care  \\\n",
      "0              False                            False               False   \n",
      "1              False                            False               False   \n",
      "2              False                            False               False   \n",
      "3              False                            False               False   \n",
      "4              False                             True               False   \n",
      "\n",
      "   Category_Skin Care  discount_percentage  total_user_interactions  \n",
      "0                True            60.050000                      481  \n",
      "1                True             0.000000                      471  \n",
      "2                True            42.872807                      476  \n",
      "3                True            35.972540                      525  \n",
      "4               False             4.040404                      511  \n",
      "\n",
      "[5 rows x 26 columns]\n"
     ]
    }
   ],
   "source": [
    "import pandas as pd\n",
    "\n",
    "# Load the newly created product dataset\n",
    "product_df = pd.read_csv('final_project_Dataset.csv')\n",
    "\n",
    "# Check the first few rows\n",
    "print(product_df.head())\n"
   ]
  },
  {
   "cell_type": "code",
   "execution_count": 12,
   "id": "cfff8100-13e7-4352-9ada-7ee95122d6f8",
   "metadata": {},
   "outputs": [
    {
     "name": "stdout",
     "output_type": "stream",
     "text": [
      "Requirement already satisfied: scikit-learn in c:\\users\\asus\\tvenv\\lib\\site-packages (1.5.2)\n",
      "Requirement already satisfied: numpy>=1.19.5 in c:\\users\\asus\\tvenv\\lib\\site-packages (from scikit-learn) (1.26.4)\n",
      "Requirement already satisfied: scipy>=1.6.0 in c:\\users\\asus\\tvenv\\lib\\site-packages (from scikit-learn) (1.14.1)\n",
      "Requirement already satisfied: joblib>=1.2.0 in c:\\users\\asus\\tvenv\\lib\\site-packages (from scikit-learn) (1.4.2)\n",
      "Requirement already satisfied: threadpoolctl>=3.1.0 in c:\\users\\asus\\tvenv\\lib\\site-packages (from scikit-learn) (3.5.0)\n",
      "Note: you may need to restart the kernel to use updated packages.\n"
     ]
    }
   ],
   "source": [
    "pip install scikit-learn\n"
   ]
  },
  {
   "cell_type": "code",
   "execution_count": 13,
   "id": "053068c2-6bb8-4779-a1d3-7a5eede83c88",
   "metadata": {},
   "outputs": [
    {
     "name": "stdout",
     "output_type": "stream",
     "text": [
      "(30000, 5)\n",
      "total_user_interactions\n",
      "1    30000\n",
      "Name: count, dtype: int64\n"
     ]
    }
   ],
   "source": [
    "# Create feature set using product features, location, and synthetic interactions\n",
    "X_train = product_df[['latitude', 'longitude', 'Price', 'Category_Skin Care', 'total_user_interactions']]\n",
    "\n",
    "# Optionally, normalize your features if needed\n",
    "from sklearn.preprocessing import StandardScaler\n",
    "scaler = StandardScaler()\n",
    "X_train_scaled = scaler.fit_transform(X_train)\n",
    "\n",
    "# Target variable: whether or not the product was interacted with (binary classification)\n",
    "y_train = (product_df['total_user_interactions'] > 0).astype(int)  # 1 if interacted, else 0\n",
    "\n",
    "# Print final dataset shape and a few rows to check\n",
    "print(X_train_scaled.shape)\n",
    "print(y_train.value_counts())\n"
   ]
  },
  {
   "cell_type": "markdown",
   "id": "63ed07f6-8f65-4e4d-8ee7-edf5d8d20575",
   "metadata": {},
   "source": [
    "### Model Building\n",
    "Model Building using CNN-RNN Hybrid"
   ]
  },
  {
   "cell_type": "code",
   "execution_count": 1,
   "id": "8cdbb3af-8dd9-49d9-ad3f-36d34d0a8f4a",
   "metadata": {},
   "outputs": [],
   "source": [
    "import numpy as np\n",
    "import tensorflow as tf\n",
    "from tensorflow.keras.layers import Input, Conv2D, Flatten, Dense, LSTM, Reshape, Concatenate\n",
    "from tensorflow.keras.models import Model, Sequential"
   ]
  },
  {
   "cell_type": "code",
   "execution_count": 2,
   "id": "c8e614e8-c9a3-411e-804d-04abb6be9edf",
   "metadata": {},
   "outputs": [],
   "source": [
    "# Define the input for product images\n",
    "image_input = Input(shape=(64, 64, 3), name='image_input')\n"
   ]
  },
  {
   "cell_type": "code",
   "execution_count": 3,
   "id": "ba98c44a-aa4c-4436-b7d5-ccd6707050ac",
   "metadata": {},
   "outputs": [
    {
     "ename": "NameError",
     "evalue": "name 'batch_size' is not defined",
     "output_type": "error",
     "traceback": [
      "\u001b[1;31m---------------------------------------------------------------------------\u001b[0m",
      "\u001b[1;31mNameError\u001b[0m                                 Traceback (most recent call last)",
      "Cell \u001b[1;32mIn[3], line 3\u001b[0m\n\u001b[0;32m      1\u001b[0m \u001b[38;5;66;03m# Assume your user_interactions is a sequence of 3-digit numbers\u001b[39;00m\n\u001b[0;32m      2\u001b[0m \u001b[38;5;66;03m# Example: 10 time steps, 3 features (3-digit numbers for each interaction)\u001b[39;00m\n\u001b[1;32m----> 3\u001b[0m user_interactions \u001b[38;5;241m=\u001b[39m np\u001b[38;5;241m.\u001b[39mrandom\u001b[38;5;241m.\u001b[39mrandint(\u001b[38;5;241m100\u001b[39m, \u001b[38;5;241m1000\u001b[39m, (\u001b[43mbatch_size\u001b[49m, time_steps, \u001b[38;5;241m3\u001b[39m))\n",
      "\u001b[1;31mNameError\u001b[0m: name 'batch_size' is not defined"
     ]
    }
   ],
   "source": [
    "# Assume your user_interactions is a sequence of 3-digit numbers\n",
    "# Example: 10 time steps, 3 features (3-digit numbers for each interaction)\n",
    "user_interactions = np.random.randint(100, 1000, (batch_size, time_steps, 3))"
   ]
  },
  {
   "cell_type": "code",
   "execution_count": 4,
   "id": "567e7050-73ce-4ba0-aec4-b3fb5cab1db2",
   "metadata": {},
   "outputs": [],
   "source": [
    "# CNN layers for product image\n",
    "x = Conv2D(32, (3, 3), activation='relu')(image_input)\n",
    "x = Conv2D(64, (3, 3), activation='relu')(x)\n",
    "x = Flatten()(x)\n",
    "x = Dense(64, activation='relu')(x)"
   ]
  },
  {
   "cell_type": "code",
   "execution_count": 5,
   "id": "a762572e-222c-43d0-b324-9ffb0df540aa",
   "metadata": {},
   "outputs": [],
   "source": [
    "# Define the input for user interactions with the correct shape\n",
    "interaction_input = Input(shape=(7,), name='interaction_input')  # Updated to 7 features\n"
   ]
  },
  {
   "cell_type": "code",
   "execution_count": 6,
   "id": "0a3b4d15-0c5d-4c54-a0ab-b7e9c6a30e9d",
   "metadata": {},
   "outputs": [],
   "source": [
    "# Process user interactions through a Dense layer\n",
    "y = Dense(64, activation='relu')(interaction_input)"
   ]
  },
  {
   "cell_type": "code",
   "execution_count": 7,
   "id": "1bdb5e48-5215-4437-8fab-abe1f536f8b4",
   "metadata": {},
   "outputs": [],
   "source": [
    "# Combine CNN and interaction branches\n",
    "combined = Concatenate()([x, y])\n"
   ]
  },
  {
   "cell_type": "code",
   "execution_count": 8,
   "id": "54d4d576-34c5-463a-932e-02be4b17fb9d",
   "metadata": {},
   "outputs": [],
   "source": [
    "# Reshape the combined output to fit the LSTM layer input requirements\n",
    "combined_reshaped = Reshape((2, 64))(combined)"
   ]
  },
  {
   "cell_type": "code",
   "execution_count": 9,
   "id": "7bfcd6f8-8f73-4603-8de1-bf7232aa64c2",
   "metadata": {},
   "outputs": [],
   "source": [
    "# LSTM for sequential data\n",
    "lstm_out = LSTM(64)(combined_reshaped)"
   ]
  },
  {
   "cell_type": "code",
   "execution_count": 10,
   "id": "1fc52d89-da27-404d-84c7-87f5d5c7bcb1",
   "metadata": {},
   "outputs": [],
   "source": [
    "# Output layer (you can adjust the output size as per your requirement)\n",
    "output = Dense(1, activation='linear')(lstm_out)"
   ]
  },
  {
   "cell_type": "code",
   "execution_count": 11,
   "id": "6b10ec73-2233-4674-b4ab-7993017d4127",
   "metadata": {},
   "outputs": [],
   "source": [
    "# Build the model\n",
    "model = Model(inputs=[image_input, interaction_input], outputs=output)"
   ]
  },
  {
   "cell_type": "code",
   "execution_count": 12,
   "id": "63b68334-f190-4cd9-9b44-0797d9cf2ea2",
   "metadata": {},
   "outputs": [],
   "source": [
    "# Create the model with two inputs and one output\n",
    "model = Model(inputs=[image_input, interaction_input], outputs=output)\n"
   ]
  },
  {
   "cell_type": "code",
   "execution_count": 13,
   "id": "6be1a524-ebf3-4784-b4d5-299976e7c20c",
   "metadata": {},
   "outputs": [],
   "source": [
    "# Compile the model\n",
    "model.compile(optimizer='adam', loss='mean_squared_error', metrics=['mae'])\n"
   ]
  },
  {
   "cell_type": "code",
   "execution_count": 14,
   "id": "58eef9a5-db91-4843-bf9f-e0fae0367483",
   "metadata": {},
   "outputs": [
    {
     "data": {
      "text/html": [
       "<pre style=\"white-space:pre;overflow-x:auto;line-height:normal;font-family:Menlo,'DejaVu Sans Mono',consolas,'Courier New',monospace\"><span style=\"font-weight: bold\">Model: \"functional_1\"</span>\n",
       "</pre>\n"
      ],
      "text/plain": [
       "\u001b[1mModel: \"functional_1\"\u001b[0m\n"
      ]
     },
     "metadata": {},
     "output_type": "display_data"
    },
    {
     "data": {
      "text/html": [
       "<pre style=\"white-space:pre;overflow-x:auto;line-height:normal;font-family:Menlo,'DejaVu Sans Mono',consolas,'Courier New',monospace\">┏━━━━━━━━━━━━━━━━━━━━━━━━━━━━━━━┳━━━━━━━━━━━━━━━━━━━━━━━━━━━┳━━━━━━━━━━━━━━━━━┳━━━━━━━━━━━━━━━━━━━━━━━━━━━━┓\n",
       "┃<span style=\"font-weight: bold\"> Layer (type)                  </span>┃<span style=\"font-weight: bold\"> Output Shape              </span>┃<span style=\"font-weight: bold\">         Param # </span>┃<span style=\"font-weight: bold\"> Connected to               </span>┃\n",
       "┡━━━━━━━━━━━━━━━━━━━━━━━━━━━━━━━╇━━━━━━━━━━━━━━━━━━━━━━━━━━━╇━━━━━━━━━━━━━━━━━╇━━━━━━━━━━━━━━━━━━━━━━━━━━━━┩\n",
       "│ image_input (<span style=\"color: #0087ff; text-decoration-color: #0087ff\">InputLayer</span>)      │ (<span style=\"color: #00d7ff; text-decoration-color: #00d7ff\">None</span>, <span style=\"color: #00af00; text-decoration-color: #00af00\">64</span>, <span style=\"color: #00af00; text-decoration-color: #00af00\">64</span>, <span style=\"color: #00af00; text-decoration-color: #00af00\">3</span>)         │               <span style=\"color: #00af00; text-decoration-color: #00af00\">0</span> │ -                          │\n",
       "├───────────────────────────────┼───────────────────────────┼─────────────────┼────────────────────────────┤\n",
       "│ conv2d (<span style=\"color: #0087ff; text-decoration-color: #0087ff\">Conv2D</span>)               │ (<span style=\"color: #00d7ff; text-decoration-color: #00d7ff\">None</span>, <span style=\"color: #00af00; text-decoration-color: #00af00\">62</span>, <span style=\"color: #00af00; text-decoration-color: #00af00\">62</span>, <span style=\"color: #00af00; text-decoration-color: #00af00\">32</span>)        │             <span style=\"color: #00af00; text-decoration-color: #00af00\">896</span> │ image_input[<span style=\"color: #00af00; text-decoration-color: #00af00\">0</span>][<span style=\"color: #00af00; text-decoration-color: #00af00\">0</span>]          │\n",
       "├───────────────────────────────┼───────────────────────────┼─────────────────┼────────────────────────────┤\n",
       "│ conv2d_1 (<span style=\"color: #0087ff; text-decoration-color: #0087ff\">Conv2D</span>)             │ (<span style=\"color: #00d7ff; text-decoration-color: #00d7ff\">None</span>, <span style=\"color: #00af00; text-decoration-color: #00af00\">60</span>, <span style=\"color: #00af00; text-decoration-color: #00af00\">60</span>, <span style=\"color: #00af00; text-decoration-color: #00af00\">64</span>)        │          <span style=\"color: #00af00; text-decoration-color: #00af00\">18,496</span> │ conv2d[<span style=\"color: #00af00; text-decoration-color: #00af00\">0</span>][<span style=\"color: #00af00; text-decoration-color: #00af00\">0</span>]               │\n",
       "├───────────────────────────────┼───────────────────────────┼─────────────────┼────────────────────────────┤\n",
       "│ flatten (<span style=\"color: #0087ff; text-decoration-color: #0087ff\">Flatten</span>)             │ (<span style=\"color: #00d7ff; text-decoration-color: #00d7ff\">None</span>, <span style=\"color: #00af00; text-decoration-color: #00af00\">230400</span>)            │               <span style=\"color: #00af00; text-decoration-color: #00af00\">0</span> │ conv2d_1[<span style=\"color: #00af00; text-decoration-color: #00af00\">0</span>][<span style=\"color: #00af00; text-decoration-color: #00af00\">0</span>]             │\n",
       "├───────────────────────────────┼───────────────────────────┼─────────────────┼────────────────────────────┤\n",
       "│ interaction_input             │ (<span style=\"color: #00d7ff; text-decoration-color: #00d7ff\">None</span>, <span style=\"color: #00af00; text-decoration-color: #00af00\">7</span>)                 │               <span style=\"color: #00af00; text-decoration-color: #00af00\">0</span> │ -                          │\n",
       "│ (<span style=\"color: #0087ff; text-decoration-color: #0087ff\">InputLayer</span>)                  │                           │                 │                            │\n",
       "├───────────────────────────────┼───────────────────────────┼─────────────────┼────────────────────────────┤\n",
       "│ dense (<span style=\"color: #0087ff; text-decoration-color: #0087ff\">Dense</span>)                 │ (<span style=\"color: #00d7ff; text-decoration-color: #00d7ff\">None</span>, <span style=\"color: #00af00; text-decoration-color: #00af00\">64</span>)                │      <span style=\"color: #00af00; text-decoration-color: #00af00\">14,745,664</span> │ flatten[<span style=\"color: #00af00; text-decoration-color: #00af00\">0</span>][<span style=\"color: #00af00; text-decoration-color: #00af00\">0</span>]              │\n",
       "├───────────────────────────────┼───────────────────────────┼─────────────────┼────────────────────────────┤\n",
       "│ dense_1 (<span style=\"color: #0087ff; text-decoration-color: #0087ff\">Dense</span>)               │ (<span style=\"color: #00d7ff; text-decoration-color: #00d7ff\">None</span>, <span style=\"color: #00af00; text-decoration-color: #00af00\">64</span>)                │             <span style=\"color: #00af00; text-decoration-color: #00af00\">512</span> │ interaction_input[<span style=\"color: #00af00; text-decoration-color: #00af00\">0</span>][<span style=\"color: #00af00; text-decoration-color: #00af00\">0</span>]    │\n",
       "├───────────────────────────────┼───────────────────────────┼─────────────────┼────────────────────────────┤\n",
       "│ concatenate (<span style=\"color: #0087ff; text-decoration-color: #0087ff\">Concatenate</span>)     │ (<span style=\"color: #00d7ff; text-decoration-color: #00d7ff\">None</span>, <span style=\"color: #00af00; text-decoration-color: #00af00\">128</span>)               │               <span style=\"color: #00af00; text-decoration-color: #00af00\">0</span> │ dense[<span style=\"color: #00af00; text-decoration-color: #00af00\">0</span>][<span style=\"color: #00af00; text-decoration-color: #00af00\">0</span>], dense_1[<span style=\"color: #00af00; text-decoration-color: #00af00\">0</span>][<span style=\"color: #00af00; text-decoration-color: #00af00\">0</span>] │\n",
       "├───────────────────────────────┼───────────────────────────┼─────────────────┼────────────────────────────┤\n",
       "│ reshape (<span style=\"color: #0087ff; text-decoration-color: #0087ff\">Reshape</span>)             │ (<span style=\"color: #00d7ff; text-decoration-color: #00d7ff\">None</span>, <span style=\"color: #00af00; text-decoration-color: #00af00\">2</span>, <span style=\"color: #00af00; text-decoration-color: #00af00\">64</span>)             │               <span style=\"color: #00af00; text-decoration-color: #00af00\">0</span> │ concatenate[<span style=\"color: #00af00; text-decoration-color: #00af00\">0</span>][<span style=\"color: #00af00; text-decoration-color: #00af00\">0</span>]          │\n",
       "├───────────────────────────────┼───────────────────────────┼─────────────────┼────────────────────────────┤\n",
       "│ lstm (<span style=\"color: #0087ff; text-decoration-color: #0087ff\">LSTM</span>)                   │ (<span style=\"color: #00d7ff; text-decoration-color: #00d7ff\">None</span>, <span style=\"color: #00af00; text-decoration-color: #00af00\">64</span>)                │          <span style=\"color: #00af00; text-decoration-color: #00af00\">33,024</span> │ reshape[<span style=\"color: #00af00; text-decoration-color: #00af00\">0</span>][<span style=\"color: #00af00; text-decoration-color: #00af00\">0</span>]              │\n",
       "├───────────────────────────────┼───────────────────────────┼─────────────────┼────────────────────────────┤\n",
       "│ dense_2 (<span style=\"color: #0087ff; text-decoration-color: #0087ff\">Dense</span>)               │ (<span style=\"color: #00d7ff; text-decoration-color: #00d7ff\">None</span>, <span style=\"color: #00af00; text-decoration-color: #00af00\">1</span>)                 │              <span style=\"color: #00af00; text-decoration-color: #00af00\">65</span> │ lstm[<span style=\"color: #00af00; text-decoration-color: #00af00\">0</span>][<span style=\"color: #00af00; text-decoration-color: #00af00\">0</span>]                 │\n",
       "└───────────────────────────────┴───────────────────────────┴─────────────────┴────────────────────────────┘\n",
       "</pre>\n"
      ],
      "text/plain": [
       "┏━━━━━━━━━━━━━━━━━━━━━━━━━━━━━━━┳━━━━━━━━━━━━━━━━━━━━━━━━━━━┳━━━━━━━━━━━━━━━━━┳━━━━━━━━━━━━━━━━━━━━━━━━━━━━┓\n",
       "┃\u001b[1m \u001b[0m\u001b[1mLayer (type)                 \u001b[0m\u001b[1m \u001b[0m┃\u001b[1m \u001b[0m\u001b[1mOutput Shape             \u001b[0m\u001b[1m \u001b[0m┃\u001b[1m \u001b[0m\u001b[1m        Param #\u001b[0m\u001b[1m \u001b[0m┃\u001b[1m \u001b[0m\u001b[1mConnected to              \u001b[0m\u001b[1m \u001b[0m┃\n",
       "┡━━━━━━━━━━━━━━━━━━━━━━━━━━━━━━━╇━━━━━━━━━━━━━━━━━━━━━━━━━━━╇━━━━━━━━━━━━━━━━━╇━━━━━━━━━━━━━━━━━━━━━━━━━━━━┩\n",
       "│ image_input (\u001b[38;5;33mInputLayer\u001b[0m)      │ (\u001b[38;5;45mNone\u001b[0m, \u001b[38;5;34m64\u001b[0m, \u001b[38;5;34m64\u001b[0m, \u001b[38;5;34m3\u001b[0m)         │               \u001b[38;5;34m0\u001b[0m │ -                          │\n",
       "├───────────────────────────────┼───────────────────────────┼─────────────────┼────────────────────────────┤\n",
       "│ conv2d (\u001b[38;5;33mConv2D\u001b[0m)               │ (\u001b[38;5;45mNone\u001b[0m, \u001b[38;5;34m62\u001b[0m, \u001b[38;5;34m62\u001b[0m, \u001b[38;5;34m32\u001b[0m)        │             \u001b[38;5;34m896\u001b[0m │ image_input[\u001b[38;5;34m0\u001b[0m][\u001b[38;5;34m0\u001b[0m]          │\n",
       "├───────────────────────────────┼───────────────────────────┼─────────────────┼────────────────────────────┤\n",
       "│ conv2d_1 (\u001b[38;5;33mConv2D\u001b[0m)             │ (\u001b[38;5;45mNone\u001b[0m, \u001b[38;5;34m60\u001b[0m, \u001b[38;5;34m60\u001b[0m, \u001b[38;5;34m64\u001b[0m)        │          \u001b[38;5;34m18,496\u001b[0m │ conv2d[\u001b[38;5;34m0\u001b[0m][\u001b[38;5;34m0\u001b[0m]               │\n",
       "├───────────────────────────────┼───────────────────────────┼─────────────────┼────────────────────────────┤\n",
       "│ flatten (\u001b[38;5;33mFlatten\u001b[0m)             │ (\u001b[38;5;45mNone\u001b[0m, \u001b[38;5;34m230400\u001b[0m)            │               \u001b[38;5;34m0\u001b[0m │ conv2d_1[\u001b[38;5;34m0\u001b[0m][\u001b[38;5;34m0\u001b[0m]             │\n",
       "├───────────────────────────────┼───────────────────────────┼─────────────────┼────────────────────────────┤\n",
       "│ interaction_input             │ (\u001b[38;5;45mNone\u001b[0m, \u001b[38;5;34m7\u001b[0m)                 │               \u001b[38;5;34m0\u001b[0m │ -                          │\n",
       "│ (\u001b[38;5;33mInputLayer\u001b[0m)                  │                           │                 │                            │\n",
       "├───────────────────────────────┼───────────────────────────┼─────────────────┼────────────────────────────┤\n",
       "│ dense (\u001b[38;5;33mDense\u001b[0m)                 │ (\u001b[38;5;45mNone\u001b[0m, \u001b[38;5;34m64\u001b[0m)                │      \u001b[38;5;34m14,745,664\u001b[0m │ flatten[\u001b[38;5;34m0\u001b[0m][\u001b[38;5;34m0\u001b[0m]              │\n",
       "├───────────────────────────────┼───────────────────────────┼─────────────────┼────────────────────────────┤\n",
       "│ dense_1 (\u001b[38;5;33mDense\u001b[0m)               │ (\u001b[38;5;45mNone\u001b[0m, \u001b[38;5;34m64\u001b[0m)                │             \u001b[38;5;34m512\u001b[0m │ interaction_input[\u001b[38;5;34m0\u001b[0m][\u001b[38;5;34m0\u001b[0m]    │\n",
       "├───────────────────────────────┼───────────────────────────┼─────────────────┼────────────────────────────┤\n",
       "│ concatenate (\u001b[38;5;33mConcatenate\u001b[0m)     │ (\u001b[38;5;45mNone\u001b[0m, \u001b[38;5;34m128\u001b[0m)               │               \u001b[38;5;34m0\u001b[0m │ dense[\u001b[38;5;34m0\u001b[0m][\u001b[38;5;34m0\u001b[0m], dense_1[\u001b[38;5;34m0\u001b[0m][\u001b[38;5;34m0\u001b[0m] │\n",
       "├───────────────────────────────┼───────────────────────────┼─────────────────┼────────────────────────────┤\n",
       "│ reshape (\u001b[38;5;33mReshape\u001b[0m)             │ (\u001b[38;5;45mNone\u001b[0m, \u001b[38;5;34m2\u001b[0m, \u001b[38;5;34m64\u001b[0m)             │               \u001b[38;5;34m0\u001b[0m │ concatenate[\u001b[38;5;34m0\u001b[0m][\u001b[38;5;34m0\u001b[0m]          │\n",
       "├───────────────────────────────┼───────────────────────────┼─────────────────┼────────────────────────────┤\n",
       "│ lstm (\u001b[38;5;33mLSTM\u001b[0m)                   │ (\u001b[38;5;45mNone\u001b[0m, \u001b[38;5;34m64\u001b[0m)                │          \u001b[38;5;34m33,024\u001b[0m │ reshape[\u001b[38;5;34m0\u001b[0m][\u001b[38;5;34m0\u001b[0m]              │\n",
       "├───────────────────────────────┼───────────────────────────┼─────────────────┼────────────────────────────┤\n",
       "│ dense_2 (\u001b[38;5;33mDense\u001b[0m)               │ (\u001b[38;5;45mNone\u001b[0m, \u001b[38;5;34m1\u001b[0m)                 │              \u001b[38;5;34m65\u001b[0m │ lstm[\u001b[38;5;34m0\u001b[0m][\u001b[38;5;34m0\u001b[0m]                 │\n",
       "└───────────────────────────────┴───────────────────────────┴─────────────────┴────────────────────────────┘\n"
      ]
     },
     "metadata": {},
     "output_type": "display_data"
    },
    {
     "data": {
      "text/html": [
       "<pre style=\"white-space:pre;overflow-x:auto;line-height:normal;font-family:Menlo,'DejaVu Sans Mono',consolas,'Courier New',monospace\"><span style=\"font-weight: bold\"> Total params: </span><span style=\"color: #00af00; text-decoration-color: #00af00\">14,798,657</span> (56.45 MB)\n",
       "</pre>\n"
      ],
      "text/plain": [
       "\u001b[1m Total params: \u001b[0m\u001b[38;5;34m14,798,657\u001b[0m (56.45 MB)\n"
      ]
     },
     "metadata": {},
     "output_type": "display_data"
    },
    {
     "data": {
      "text/html": [
       "<pre style=\"white-space:pre;overflow-x:auto;line-height:normal;font-family:Menlo,'DejaVu Sans Mono',consolas,'Courier New',monospace\"><span style=\"font-weight: bold\"> Trainable params: </span><span style=\"color: #00af00; text-decoration-color: #00af00\">14,798,657</span> (56.45 MB)\n",
       "</pre>\n"
      ],
      "text/plain": [
       "\u001b[1m Trainable params: \u001b[0m\u001b[38;5;34m14,798,657\u001b[0m (56.45 MB)\n"
      ]
     },
     "metadata": {},
     "output_type": "display_data"
    },
    {
     "data": {
      "text/html": [
       "<pre style=\"white-space:pre;overflow-x:auto;line-height:normal;font-family:Menlo,'DejaVu Sans Mono',consolas,'Courier New',monospace\"><span style=\"font-weight: bold\"> Non-trainable params: </span><span style=\"color: #00af00; text-decoration-color: #00af00\">0</span> (0.00 B)\n",
       "</pre>\n"
      ],
      "text/plain": [
       "\u001b[1m Non-trainable params: \u001b[0m\u001b[38;5;34m0\u001b[0m (0.00 B)\n"
      ]
     },
     "metadata": {},
     "output_type": "display_data"
    }
   ],
   "source": [
    "# Display the model summary\n",
    "model.summary()"
   ]
  },
  {
   "cell_type": "code",
   "execution_count": 15,
   "id": "13cc0622-241f-4258-b680-7c256818917f",
   "metadata": {},
   "outputs": [],
   "source": [
    "# Save the trained model\n",
    "model.save('location_recommendation_model.keras')"
   ]
  },
  {
   "cell_type": "markdown",
   "id": "9c7286fd-1fef-4189-88c5-7cf2f2d67038",
   "metadata": {
    "jp-MarkdownHeadingCollapsed": true
   },
   "source": [
    "### training and prediction\n"
   ]
  },
  {
   "cell_type": "code",
   "execution_count": 126,
   "id": "374f267e-8caf-46a3-bec5-83ad022114f8",
   "metadata": {},
   "outputs": [
    {
     "ename": "ValueError",
     "evalue": "Data cardinality is ambiguous. Make sure all arrays contain the same number of samples.'x' sizes: 10, 64\n'y' sizes: 100\n",
     "output_type": "error",
     "traceback": [
      "\u001b[1;31m---------------------------------------------------------------------------\u001b[0m",
      "\u001b[1;31mValueError\u001b[0m                                Traceback (most recent call last)",
      "Cell \u001b[1;32mIn[126], line 6\u001b[0m\n\u001b[0;32m      1\u001b[0m \u001b[38;5;66;03m# Assuming product_images is a NumPy array of shape (num_samples, 64, 64, 3)\u001b[39;00m\n\u001b[0;32m      2\u001b[0m \u001b[38;5;66;03m# And user_interactions is a NumPy array of shape (num_samples, 64)\u001b[39;00m\n\u001b[0;32m      3\u001b[0m \u001b[38;5;66;03m# labels is the array of target labels for training\u001b[39;00m\n\u001b[0;32m      4\u001b[0m \n\u001b[0;32m      5\u001b[0m \u001b[38;5;66;03m# Train the model with the two inputs\u001b[39;00m\n\u001b[1;32m----> 6\u001b[0m \u001b[43mmodel\u001b[49m\u001b[38;5;241;43m.\u001b[39;49m\u001b[43mfit\u001b[49m\u001b[43m(\u001b[49m\n\u001b[0;32m      7\u001b[0m \u001b[43m    \u001b[49m\u001b[43m[\u001b[49m\u001b[43mproduct_images\u001b[49m\u001b[43m,\u001b[49m\u001b[43m \u001b[49m\u001b[43muser_interactions\u001b[49m\u001b[43m]\u001b[49m\u001b[43m,\u001b[49m\u001b[43m  \u001b[49m\u001b[38;5;66;43;03m# Pass the inputs as a list\u001b[39;49;00m\n\u001b[0;32m      8\u001b[0m \u001b[43m    \u001b[49m\u001b[43mlabels\u001b[49m\u001b[43m,\u001b[49m\u001b[43m                               \u001b[49m\u001b[38;5;66;43;03m# Target labels\u001b[39;49;00m\n\u001b[0;32m      9\u001b[0m \u001b[43m    \u001b[49m\u001b[43mepochs\u001b[49m\u001b[38;5;241;43m=\u001b[39;49m\u001b[38;5;241;43m10\u001b[39;49m\u001b[43m,\u001b[49m\n\u001b[0;32m     10\u001b[0m \u001b[43m    \u001b[49m\u001b[43mbatch_size\u001b[49m\u001b[38;5;241;43m=\u001b[39;49m\u001b[38;5;241;43m16\u001b[39;49m\n\u001b[0;32m     11\u001b[0m \u001b[43m)\u001b[49m\n",
      "File \u001b[1;32m~\\tvenv\\Lib\\site-packages\\keras\\src\\utils\\traceback_utils.py:122\u001b[0m, in \u001b[0;36mfilter_traceback.<locals>.error_handler\u001b[1;34m(*args, **kwargs)\u001b[0m\n\u001b[0;32m    119\u001b[0m     filtered_tb \u001b[38;5;241m=\u001b[39m _process_traceback_frames(e\u001b[38;5;241m.\u001b[39m__traceback__)\n\u001b[0;32m    120\u001b[0m     \u001b[38;5;66;03m# To get the full stack trace, call:\u001b[39;00m\n\u001b[0;32m    121\u001b[0m     \u001b[38;5;66;03m# `keras.config.disable_traceback_filtering()`\u001b[39;00m\n\u001b[1;32m--> 122\u001b[0m     \u001b[38;5;28;01mraise\u001b[39;00m e\u001b[38;5;241m.\u001b[39mwith_traceback(filtered_tb) \u001b[38;5;28;01mfrom\u001b[39;00m \u001b[38;5;28;01mNone\u001b[39;00m\n\u001b[0;32m    123\u001b[0m \u001b[38;5;28;01mfinally\u001b[39;00m:\n\u001b[0;32m    124\u001b[0m     \u001b[38;5;28;01mdel\u001b[39;00m filtered_tb\n",
      "File \u001b[1;32m~\\tvenv\\Lib\\site-packages\\keras\\src\\trainers\\data_adapters\\data_adapter_utils.py:114\u001b[0m, in \u001b[0;36mcheck_data_cardinality\u001b[1;34m(data)\u001b[0m\n\u001b[0;32m    110\u001b[0m     sizes \u001b[38;5;241m=\u001b[39m \u001b[38;5;124m\"\u001b[39m\u001b[38;5;124m, \u001b[39m\u001b[38;5;124m\"\u001b[39m\u001b[38;5;241m.\u001b[39mjoin(\n\u001b[0;32m    111\u001b[0m         \u001b[38;5;28mstr\u001b[39m(i\u001b[38;5;241m.\u001b[39mshape[\u001b[38;5;241m0\u001b[39m]) \u001b[38;5;28;01mfor\u001b[39;00m i \u001b[38;5;129;01min\u001b[39;00m tree\u001b[38;5;241m.\u001b[39mflatten(single_data)\n\u001b[0;32m    112\u001b[0m     )\n\u001b[0;32m    113\u001b[0m     msg \u001b[38;5;241m+\u001b[39m\u001b[38;5;241m=\u001b[39m \u001b[38;5;124mf\u001b[39m\u001b[38;5;124m\"\u001b[39m\u001b[38;5;124m'\u001b[39m\u001b[38;5;132;01m{\u001b[39;00mlabel\u001b[38;5;132;01m}\u001b[39;00m\u001b[38;5;124m'\u001b[39m\u001b[38;5;124m sizes: \u001b[39m\u001b[38;5;132;01m{\u001b[39;00msizes\u001b[38;5;132;01m}\u001b[39;00m\u001b[38;5;130;01m\\n\u001b[39;00m\u001b[38;5;124m\"\u001b[39m\n\u001b[1;32m--> 114\u001b[0m \u001b[38;5;28;01mraise\u001b[39;00m \u001b[38;5;167;01mValueError\u001b[39;00m(msg)\n",
      "\u001b[1;31mValueError\u001b[0m: Data cardinality is ambiguous. Make sure all arrays contain the same number of samples.'x' sizes: 10, 64\n'y' sizes: 100\n"
     ]
    }
   ],
   "source": [
    "# Assuming product_images is a NumPy array of shape (num_samples, 64, 64, 3)\n",
    "# And user_interactions is a NumPy array of shape (num_samples, 64)\n",
    "# labels is the array of target labels for training\n",
    "\n",
    "# Train the model with the two inputs\n",
    "model.fit(\n",
    "    [product_images, user_interactions],  # Pass the inputs as a list\n",
    "    labels,                               # Target labels\n",
    "    epochs=10,\n",
    "    batch_size=16\n",
    ")"
   ]
  },
  {
   "cell_type": "code",
   "execution_count": 127,
   "id": "8021bad5-9034-409f-966f-23b37bb3b763",
   "metadata": {},
   "outputs": [
    {
     "name": "stdout",
     "output_type": "stream",
     "text": [
      "(10, 64, 64, 3)\n",
      "(64, 1, 3)\n"
     ]
    }
   ],
   "source": [
    "print(product_images.shape)  # Should be (num_samples, 64, 64, 3)\n",
    "print(user_interactions.shape)  # Should be (num_samples, 64)\n"
   ]
  },
  {
   "cell_type": "code",
   "execution_count": 86,
   "id": "b1dc0eae-3790-4583-b3ed-d85bca56ad66",
   "metadata": {},
   "outputs": [],
   "source": [
    "import numpy as np\n",
    "\n",
    "# Example product image data, shaped (64, 64, 3)\n",
    "product_image = np.random.rand(64, 64, 3)  # Replace with actual image data\n",
    "\n",
    "# Example user interaction data, shaped (64,)\n",
    "user_interaction = np.random.rand(64)  # Replace with actual interaction data\n"
   ]
  },
  {
   "cell_type": "code",
   "execution_count": 87,
   "id": "196c633e-9f16-41d2-b3e9-c3cda16cebbf",
   "metadata": {},
   "outputs": [],
   "source": [
    "# Reshape product image and user interaction data to match the input shape of the model\n",
    "product_image = np.expand_dims(product_image, axis=0)  # Shape: (1, 64, 64, 3)\n",
    "user_interaction = np.expand_dims(user_interaction, axis=0)  # Shape: (1, 64)\n"
   ]
  },
  {
   "cell_type": "code",
   "execution_count": 88,
   "id": "b11e65ec-7cd9-484d-9233-3a150f307de3",
   "metadata": {},
   "outputs": [
    {
     "name": "stdout",
     "output_type": "stream",
     "text": [
      "\u001b[1m1/1\u001b[0m \u001b[32m━━━━━━━━━━━━━━━━━━━━\u001b[0m\u001b[37m\u001b[0m \u001b[1m0s\u001b[0m 311ms/step\n"
     ]
    }
   ],
   "source": [
    "# Make prediction using the model\n",
    "recommendation_score = model.predict([product_image, user_interaction])\n"
   ]
  },
  {
   "cell_type": "code",
   "execution_count": 89,
   "id": "cbd2f0cb-c773-4ce6-82ee-cc7b4b51eef0",
   "metadata": {},
   "outputs": [
    {
     "name": "stdout",
     "output_type": "stream",
     "text": [
      "Recommendation Score: [[0.0453361]]\n"
     ]
    }
   ],
   "source": [
    "# Output the recommendation score (you can adjust thresholds for a positive recommendation)\n",
    "print(f'Recommendation Score: {recommendation_score}')"
   ]
  },
  {
   "cell_type": "code",
   "execution_count": 90,
   "id": "0996c93d-c1f9-47ee-8fee-14c5b2beeeda",
   "metadata": {},
   "outputs": [
    {
     "name": "stdout",
     "output_type": "stream",
     "text": [
      "Do not recommend the product\n"
     ]
    }
   ],
   "source": [
    "if recommendation_score > 0.5:\n",
    "    print(\"Recommend the product to the user\")\n",
    "else:\n",
    "    print(\"Do not recommend the product\")\n"
   ]
  },
  {
   "cell_type": "code",
   "execution_count": 91,
   "id": "f6e2c054-9711-4235-8c82-5afaba2854c9",
   "metadata": {},
   "outputs": [
    {
     "name": "stdout",
     "output_type": "stream",
     "text": [
      "\u001b[1m1/1\u001b[0m \u001b[32m━━━━━━━━━━━━━━━━━━━━\u001b[0m\u001b[37m\u001b[0m \u001b[1m0s\u001b[0m 378ms/step\n",
      "Recommend product [0] with score [[0.08379593]]\n",
      "Recommend product [0] with score [[0.08379593]]\n",
      "Recommend product [0] with score [[0.08379593]]\n",
      "Recommend product [0] with score [[0.08379593]]\n",
      "Recommend product [0] with score [[0.08379593]]\n"
     ]
    }
   ],
   "source": [
    "# Example product list, assuming you have a batch of product images and interactions\n",
    "product_images = np.random.rand(10, 64, 64, 3)  # 10 sample product images\n",
    "user_interactions = np.random.rand(10, 64)  # 10 user interactions\n",
    "\n",
    "# Predict recommendations for the batch\n",
    "recommendation_scores = model.predict([product_images, user_interactions])\n",
    "\n",
    "# Print recommendations for the top N products\n",
    "top_N = 5\n",
    "recommended_indices = np.argsort(recommendation_scores)[-top_N:]\n",
    "\n",
    "for idx in recommended_indices:\n",
    "    print(f\"Recommend product {idx} with score {recommendation_scores[idx]}\")\n"
   ]
  },
  {
   "cell_type": "markdown",
   "id": "304c3c5d-c48e-476d-b9b7-484255f8d5b5",
   "metadata": {},
   "source": [
    "## recommendation using dataset"
   ]
  },
  {
   "cell_type": "code",
   "execution_count": 16,
   "id": "44069ebc-4521-44fe-b940-3c9b372ec4e6",
   "metadata": {},
   "outputs": [
    {
     "name": "stderr",
     "output_type": "stream",
     "text": [
      "C:\\Users\\ASUS\\tvenv\\Lib\\site-packages\\keras\\src\\saving\\saving_lib.py:713: UserWarning: Skipping variable loading for optimizer 'adam', because it has 28 variables whereas the saved optimizer has 2 variables. \n",
      "  saveable.load_own_variables(weights_store.get(inner_path))\n"
     ]
    }
   ],
   "source": [
    "from tensorflow.keras.models import load_model\n",
    "\n",
    "# Load the trained model\n",
    "model = load_model('location_recommendation_model.keras')\n"
   ]
  },
  {
   "cell_type": "code",
   "execution_count": 17,
   "id": "c4a93edf-93e2-4ebc-96f3-3f9fc3f1993d",
   "metadata": {},
   "outputs": [],
   "source": [
    "import numpy as np\n",
    "import pandas as pd\n",
    "from sklearn.model_selection import train_test_split\n",
    "from sklearn.preprocessing import StandardScaler\n",
    "\n",
    "# Load the processed dataset (replace with the actual path to your file)\n",
    "df = pd.read_csv('final_project_Dataset.csv')\n"
   ]
  },
  {
   "cell_type": "code",
   "execution_count": 18,
   "id": "cb765326-57fd-4537-9f60-814f8819c618",
   "metadata": {},
   "outputs": [],
   "source": [
    "# Prepare interaction data (selecting relevant features)\n",
    "interaction_features = ['distance_to_user', 'discount_percentage'] + [col for col in df.columns if 'Category_' in col]\n",
    "X_interactions = df[interaction_features].fillna(0).values  # Fill NaN with 0 or appropriate value\n"
   ]
  },
  {
   "cell_type": "code",
   "execution_count": 19,
   "id": "51c0db03-8aad-47f3-980e-f6715466f413",
   "metadata": {},
   "outputs": [],
   "source": [
    "# Ensure all data is numeric\n",
    "X_interactions = X_interactions.astype(float)\n",
    "\n"
   ]
  },
  {
   "cell_type": "code",
   "execution_count": 20,
   "id": "da368b65-5ee2-4ad1-88c1-5fafe97e42a9",
   "metadata": {},
   "outputs": [],
   "source": [
    "# Normalize or Standardize the data if necessary\n",
    "#scaler = StandardScaler()\n",
    "#X_interactions = scaler.fit_transform(X_interactions)"
   ]
  },
  {
   "cell_type": "code",
   "execution_count": 21,
   "id": "518edf99-af2d-4821-be8e-d1388ac39c31",
   "metadata": {},
   "outputs": [],
   "source": [
    "# Target variable\n",
    "y = df['total_user_interactions'].values.astype(float)  # Ensure the target is also float\n"
   ]
  },
  {
   "cell_type": "code",
   "execution_count": 22,
   "id": "a12002e5-f206-47ea-8f75-5d7a047925e2",
   "metadata": {},
   "outputs": [],
   "source": [
    "# Generate dummy image data\n",
    "dummy_image_input = np.zeros((X_interactions.shape[0], 64, 64, 3))  # Same number of samples as X_interactions\n",
    "\n"
   ]
  },
  {
   "cell_type": "code",
   "execution_count": 23,
   "id": "ac8ee47c-e174-43eb-ae18-cf920b46f3e9",
   "metadata": {},
   "outputs": [],
   "source": [
    "# Split the data consistently for both image and interaction inputs\n",
    "X_interactions_train, X_interactions_test, y_train, y_test, X_image_train, X_image_test = train_test_split(\n",
    "    X_interactions, y, dummy_image_input, test_size=0.2, random_state=42)\n"
   ]
  },
  {
   "cell_type": "code",
   "execution_count": 24,
   "id": "c5af05ec-8db1-4102-8e44-680befde864e",
   "metadata": {},
   "outputs": [],
   "source": [
    "from sklearn.preprocessing import StandardScaler\n",
    "\n",
    "# Scaling interaction data\n",
    "scaler = StandardScaler()\n",
    "X_interactions = scaler.fit_transform(X_interactions)\n",
    "\n",
    "# Scaling target variable (if it's not binary classification)\n",
    "y = scaler.fit_transform(y.reshape(-1, 1)).flatten()\n"
   ]
  },
  {
   "cell_type": "code",
   "execution_count": 25,
   "id": "95d9cad1-b00e-4622-8792-7dc33e346c25",
   "metadata": {},
   "outputs": [
    {
     "name": "stdout",
     "output_type": "stream",
     "text": [
      "Epoch 1/10\n",
      "\u001b[1m750/750\u001b[0m \u001b[32m━━━━━━━━━━━━━━━━━━━━\u001b[0m\u001b[37m\u001b[0m \u001b[1m128s\u001b[0m 166ms/step - loss: 234739.3594 - mae: 484.0880 - val_loss: 198253.0312 - val_mae: 444.9823\n",
      "Epoch 2/10\n",
      "\u001b[1m750/750\u001b[0m \u001b[32m━━━━━━━━━━━━━━━━━━━━\u001b[0m\u001b[37m\u001b[0m \u001b[1m127s\u001b[0m 169ms/step - loss: 187763.8281 - mae: 432.9035 - val_loss: 158974.7500 - val_mae: 398.4100\n",
      "Epoch 3/10\n",
      "\u001b[1m750/750\u001b[0m \u001b[32m━━━━━━━━━━━━━━━━━━━━\u001b[0m\u001b[37m\u001b[0m \u001b[1m124s\u001b[0m 166ms/step - loss: 150261.3906 - mae: 387.1920 - val_loss: 126287.2031 - val_mae: 355.0262\n",
      "Epoch 4/10\n",
      "\u001b[1m750/750\u001b[0m \u001b[32m━━━━━━━━━━━━━━━━━━━━\u001b[0m\u001b[37m\u001b[0m \u001b[1m143s\u001b[0m 167ms/step - loss: 119012.9922 - mae: 344.4937 - val_loss: 98667.6484 - val_mae: 313.7256\n",
      "Epoch 5/10\n",
      "\u001b[1m750/750\u001b[0m \u001b[32m━━━━━━━━━━━━━━━━━━━━\u001b[0m\u001b[37m\u001b[0m \u001b[1m125s\u001b[0m 167ms/step - loss: 92406.6328 - mae: 303.4472 - val_loss: 75322.5938 - val_mae: 274.0057\n",
      "Epoch 6/10\n",
      "\u001b[1m750/750\u001b[0m \u001b[32m━━━━━━━━━━━━━━━━━━━━\u001b[0m\u001b[37m\u001b[0m \u001b[1m125s\u001b[0m 167ms/step - loss: 69983.2266 - mae: 263.9499 - val_loss: 55778.6094 - val_mae: 235.6589\n",
      "Epoch 7/10\n",
      "\u001b[1m750/750\u001b[0m \u001b[32m━━━━━━━━━━━━━━━━━━━━\u001b[0m\u001b[37m\u001b[0m \u001b[1m126s\u001b[0m 167ms/step - loss: 51425.8516 - mae: 226.0718 - val_loss: 39717.9531 - val_mae: 198.6812\n",
      "Epoch 8/10\n",
      "\u001b[1m750/750\u001b[0m \u001b[32m━━━━━━━━━━━━━━━━━━━━\u001b[0m\u001b[37m\u001b[0m \u001b[1m126s\u001b[0m 168ms/step - loss: 36244.4531 - mae: 189.5633 - val_loss: 26879.7930 - val_mae: 163.2059\n",
      "Epoch 9/10\n",
      "\u001b[1m750/750\u001b[0m \u001b[32m━━━━━━━━━━━━━━━━━━━━\u001b[0m\u001b[37m\u001b[0m \u001b[1m131s\u001b[0m 175ms/step - loss: 24082.0059 - mae: 154.2034 - val_loss: 17011.8262 - val_mae: 129.4917\n",
      "Epoch 10/10\n",
      "\u001b[1m750/750\u001b[0m \u001b[32m━━━━━━━━━━━━━━━━━━━━\u001b[0m\u001b[37m\u001b[0m \u001b[1m131s\u001b[0m 174ms/step - loss: 15015.6885 - mae: 121.3184 - val_loss: 9850.8223 - val_mae: 98.0163\n"
     ]
    }
   ],
   "source": [
    "history = model.fit(\n",
    "    [X_image_train, X_interactions_train],  # Inputs\n",
    "    y_train,\n",
    "    epochs=10,\n",
    "    batch_size=32,\n",
    "    validation_data=([X_image_test, X_interactions_test], y_test)  # Validation data\n",
    ")\n",
    "\n"
   ]
  },
  {
   "cell_type": "code",
   "execution_count": 26,
   "id": "88c3c0a3-f36b-48a7-8ea2-357cb2751d7d",
   "metadata": {},
   "outputs": [
    {
     "name": "stdout",
     "output_type": "stream",
     "text": [
      "\u001b[1m188/188\u001b[0m \u001b[32m━━━━━━━━━━━━━━━━━━━━\u001b[0m\u001b[37m\u001b[0m \u001b[1m6s\u001b[0m 33ms/step - loss: 9853.0605 - mae: 98.0242\n"
     ]
    },
    {
     "data": {
      "text/plain": [
       "[9850.822265625, 98.0162582397461]"
      ]
     },
     "execution_count": 26,
     "metadata": {},
     "output_type": "execute_result"
    }
   ],
   "source": [
    "# Evaluate the model\n",
    "model.evaluate([X_image_test, X_interactions_test], y_test)  # Provide both inputs for evaluation"
   ]
  },
  {
   "cell_type": "code",
   "execution_count": 27,
   "id": "52be0c31-1c76-4766-8946-27b274589c5f",
   "metadata": {},
   "outputs": [],
   "source": [
    "import numpy as np\n",
    "\n",
    "# Sample data preparation\n",
    "\n",
    "# Example: Dummy image data for new inputs (64x64 images with 3 color channels)\n",
    "# Here, we're creating a batch of 5 new samples as an example\n",
    "X_image_new = np.random.rand(5, 64, 64, 3)  # Replace with actual image data\n",
    "\n",
    "# Example: Dummy interaction data for new inputs\n",
    "# Let's say your interaction input has 7 features\n",
    "X_interactions_new = np.random.rand(5, 7)  # Replace with actual interaction data\n"
   ]
  },
  {
   "cell_type": "code",
   "execution_count": 28,
   "id": "468c5a80-1921-4cc6-bd5b-81551346cafe",
   "metadata": {},
   "outputs": [
    {
     "name": "stdout",
     "output_type": "stream",
     "text": [
      "\u001b[1m1/1\u001b[0m \u001b[32m━━━━━━━━━━━━━━━━━━━━\u001b[0m\u001b[37m\u001b[0m \u001b[1m0s\u001b[0m 314ms/step\n",
      "Predicted interaction scores: [[402.15927]\n",
      " [402.18362]\n",
      " [402.1789 ]\n",
      " [402.15683]\n",
      " [402.15253]]\n"
     ]
    }
   ],
   "source": [
    "# Make predictions using the trained model\n",
    "predicted_scores = model.predict([X_image_new, X_interactions_new])\n",
    "\n",
    "# Print the predicted scores for these new inputs\n",
    "print(\"Predicted interaction scores:\", predicted_scores)\n",
    "\n"
   ]
  },
  {
   "cell_type": "code",
   "execution_count": 29,
   "id": "084204d9-2877-4fe6-b568-b18ef7de32e8",
   "metadata": {},
   "outputs": [
    {
     "name": "stdout",
     "output_type": "stream",
     "text": [
      "Recommended products: ['Product1', 'Product3', 'Product2']\n"
     ]
    }
   ],
   "source": [
    "# Optionally, get the indices of the top-N recommendations\n",
    "N = 3  # Number of recommendations\n",
    "top_n_indices = np.argsort(predicted_scores.flatten())[-N:]\n",
    "\n",
    "# Assuming you have a list of products or items\n",
    "# Here's a dummy list of product IDs corresponding to the new input data\n",
    "product_ids = [\"Product1\", \"Product2\", \"Product3\", \"Product4\", \"Product5\"]\n",
    "\n",
    "# Get the recommended products based on the top predicted scores\n",
    "recommended_products = [product_ids[idx] for idx in top_n_indices]\n",
    "\n",
    "print(\"Recommended products:\", recommended_products)"
   ]
  },
  {
   "cell_type": "code",
   "execution_count": null,
   "id": "f96c35b4-7e2e-45fe-98c1-7fbab806f1d2",
   "metadata": {},
   "outputs": [],
   "source": []
  },
  {
   "cell_type": "code",
   "execution_count": null,
   "id": "ebd287e7-8f87-4d36-888e-509c8daf4f6e",
   "metadata": {},
   "outputs": [],
   "source": []
  },
  {
   "cell_type": "markdown",
   "id": "a0ad990b-6037-4501-88e0-371836929577",
   "metadata": {},
   "source": [
    "### use the above code "
   ]
  },
  {
   "cell_type": "markdown",
   "id": "dab24b83-a364-40ee-8d8d-4b70f62d71a2",
   "metadata": {
    "jp-MarkdownHeadingCollapsed": true
   },
   "source": [
    "### Updated Preprocessing Code Without Images\n"
   ]
  },
  {
   "cell_type": "code",
   "execution_count": 26,
   "id": "43e4e500-c6a6-4256-ad7d-1a5674123a40",
   "metadata": {},
   "outputs": [
    {
     "name": "stdout",
     "output_type": "stream",
     "text": [
      "   index                           Uniq Id            Crawl Timestamp  \\\n",
      "0      0  eb49cc038190f6f03c272f79fbbce894  2019-10-30 11:38:11 +0000   \n",
      "1      1  1657cc30c438affede6a5060d6847363  2019-10-31 15:46:54 +0000   \n",
      "2      2  41654633cce38c8650690f6dbac01fd3  2019-10-30 09:53:23 +0000   \n",
      "3      3  08b1bd85c3efc2d7aa556fd79b073382  2019-10-29 16:16:52 +0000   \n",
      "4      4  3ac3f213732512d1d11bb73ab3b1900f  2019-10-31 09:32:06 +0000   \n",
      "\n",
      "                                       Product Title  \\\n",
      "0   Lee posh Lactic Acid 60% Anti ageing Pigmenta...   \n",
      "1   Branded SLB Works New 1.5mm Titanium 1200 nee...   \n",
      "2   Generic 1 Pc brand snail eye cream remove dar...   \n",
      "3   Generic Anti Snoring Snore Stopper Sleep Apne...   \n",
      "4   Harveys Crunchy & Creame Gourmet Delicacies C...   \n",
      "\n",
      "                                 Product Description      Brand  \\\n",
      "0  PROFESSIONAL GRADE Face Peel: this peel stimul...   Lee Posh   \n",
      "1  Item name: 1.5mm titanium 1200 needles microne...  SLB Works   \n",
      "2  Use: eye, item type: cream, net wt: 20g, gzzz:...    Generic   \n",
      "3  Prevent the tongue from dropping backward or b...    Generic   \n",
      "4     Harvey's wafer Cream Wafer 110g. Made in India    Harveys   \n",
      "\n",
      "  Pack Size Or Quantity     Mrp     Price  Site Name  ...   latitude  \\\n",
      "0                   NaN  2000.0  0.035809  Amazon In  ...  16.960361   \n",
      "1                   NaN  2040.0  0.092274  Amazon In  ...  14.469237   \n",
      "2                   NaN  1824.0  0.046865  Amazon In  ...  18.113290   \n",
      "3                   NaN  2185.0  0.063109  Amazon In  ...  23.405761   \n",
      "4                   NaN   594.0  0.025389  Amazon In  ...  19.798254   \n",
      "\n",
      "   longitude distance_to_user Category_Detergents & Dishwash  \\\n",
      "0  82.238086      1018.318156                          False   \n",
      "1  75.923750       604.402774                          False   \n",
      "2  83.397743      1115.256910                          False   \n",
      "3  88.490733      1688.917413                          False   \n",
      "4  85.824938      1361.656576                          False   \n",
      "\n",
      "  Category_Fragrance Category_Grocery & Gourmet Foods  Category_Hair Care  \\\n",
      "0              False                            False               False   \n",
      "1              False                            False               False   \n",
      "2              False                            False               False   \n",
      "3              False                            False               False   \n",
      "4              False                             True               False   \n",
      "\n",
      "   Category_Skin Care  discount_percentage  total_user_interactions  \n",
      "0                True            60.050000                      481  \n",
      "1                True             0.000000                      471  \n",
      "2                True            42.872807                      476  \n",
      "3                True            35.972540                      525  \n",
      "4               False             4.040404                      511  \n",
      "\n",
      "[5 rows x 26 columns]\n",
      "<class 'pandas.core.frame.DataFrame'>\n",
      "RangeIndex: 30000 entries, 0 to 29999\n",
      "Data columns (total 26 columns):\n",
      " #   Column                            Non-Null Count  Dtype  \n",
      "---  ------                            --------------  -----  \n",
      " 0   index                             30000 non-null  int64  \n",
      " 1   Uniq Id                           30000 non-null  object \n",
      " 2   Crawl Timestamp                   30000 non-null  object \n",
      " 3   Product Title                     30000 non-null  object \n",
      " 4   Product Description               28010 non-null  object \n",
      " 5   Brand                             29913 non-null  object \n",
      " 6   Pack Size Or Quantity             10224 non-null  object \n",
      " 7   Mrp                               29240 non-null  float64\n",
      " 8   Price                             29339 non-null  float64\n",
      " 9   Site Name                         30000 non-null  object \n",
      " 10  Offers                            29534 non-null  object \n",
      " 11  Combo Offers                      37 non-null     object \n",
      " 12  Stock Availibility                30000 non-null  object \n",
      " 13  Product Asin                      30000 non-null  object \n",
      " 14  Image Urls                        30000 non-null  object \n",
      " 15  city                              30000 non-null  object \n",
      " 16  latitude                          30000 non-null  float64\n",
      " 17  longitude                         30000 non-null  float64\n",
      " 18  distance_to_user                  30000 non-null  float64\n",
      " 19  Category_Detergents & Dishwash    30000 non-null  bool   \n",
      " 20  Category_Fragrance                30000 non-null  bool   \n",
      " 21  Category_Grocery & Gourmet Foods  30000 non-null  bool   \n",
      " 22  Category_Hair Care                30000 non-null  bool   \n",
      " 23  Category_Skin Care                30000 non-null  bool   \n",
      " 24  discount_percentage               29240 non-null  float64\n",
      " 25  total_user_interactions           30000 non-null  int64  \n",
      "dtypes: bool(5), float64(6), int64(2), object(13)\n",
      "memory usage: 4.9+ MB\n",
      "None\n"
     ]
    }
   ],
   "source": [
    "import pandas as pd\n",
    "\n",
    "# Load the dataset\n",
    "df = pd.read_csv('final_project_Dataset.csv')\n",
    "\n",
    "# Display the first few rows of the dataset\n",
    "print(df.head())\n",
    "\n",
    "# Display summary information about the dataset\n",
    "print(df.info())\n"
   ]
  },
  {
   "cell_type": "code",
   "execution_count": 27,
   "id": "d8780425-8585-4c04-aa42-25d273b2f1b1",
   "metadata": {},
   "outputs": [],
   "source": [
    "import pandas as pd\n",
    "from sklearn.preprocessing import LabelEncoder, MinMaxScaler\n",
    "import numpy as np\n",
    "from tensorflow.keras.preprocessing.image import load_img, img_to_array\n"
   ]
  },
  {
   "cell_type": "code",
   "execution_count": 28,
   "id": "1330ac8a-b257-4f8c-b6ad-a9f7aa361980",
   "metadata": {},
   "outputs": [],
   "source": [
    "# Load the dataset\n",
    "df = pd.read_csv('final_project_Dataset.csv')"
   ]
  },
  {
   "cell_type": "code",
   "execution_count": 29,
   "id": "3ba50ab1-3145-4649-8f29-48f1ae6f768b",
   "metadata": {},
   "outputs": [
    {
     "name": "stderr",
     "output_type": "stream",
     "text": [
      "C:\\Users\\ASUS\\AppData\\Local\\Temp\\ipykernel_23904\\290592254.py:2: FutureWarning: A value is trying to be set on a copy of a DataFrame or Series through chained assignment using an inplace method.\n",
      "The behavior will change in pandas 3.0. This inplace method will never work because the intermediate object on which we are setting values always behaves as a copy.\n",
      "\n",
      "For example, when doing 'df[col].method(value, inplace=True)', try using 'df.method({col: value}, inplace=True)' or df[col] = df[col].method(value) instead, to perform the operation inplace on the original object.\n",
      "\n",
      "\n",
      "  df['Product Description'].fillna('', inplace=True)\n",
      "C:\\Users\\ASUS\\AppData\\Local\\Temp\\ipykernel_23904\\290592254.py:3: FutureWarning: A value is trying to be set on a copy of a DataFrame or Series through chained assignment using an inplace method.\n",
      "The behavior will change in pandas 3.0. This inplace method will never work because the intermediate object on which we are setting values always behaves as a copy.\n",
      "\n",
      "For example, when doing 'df[col].method(value, inplace=True)', try using 'df.method({col: value}, inplace=True)' or df[col] = df[col].method(value) instead, to perform the operation inplace on the original object.\n",
      "\n",
      "\n",
      "  df['Brand'].fillna('Unknown', inplace=True)\n",
      "C:\\Users\\ASUS\\AppData\\Local\\Temp\\ipykernel_23904\\290592254.py:4: FutureWarning: A value is trying to be set on a copy of a DataFrame or Series through chained assignment using an inplace method.\n",
      "The behavior will change in pandas 3.0. This inplace method will never work because the intermediate object on which we are setting values always behaves as a copy.\n",
      "\n",
      "For example, when doing 'df[col].method(value, inplace=True)', try using 'df.method({col: value}, inplace=True)' or df[col] = df[col].method(value) instead, to perform the operation inplace on the original object.\n",
      "\n",
      "\n",
      "  df['Mrp'].fillna(df['Mrp'].median(), inplace=True)\n",
      "C:\\Users\\ASUS\\AppData\\Local\\Temp\\ipykernel_23904\\290592254.py:5: FutureWarning: A value is trying to be set on a copy of a DataFrame or Series through chained assignment using an inplace method.\n",
      "The behavior will change in pandas 3.0. This inplace method will never work because the intermediate object on which we are setting values always behaves as a copy.\n",
      "\n",
      "For example, when doing 'df[col].method(value, inplace=True)', try using 'df.method({col: value}, inplace=True)' or df[col] = df[col].method(value) instead, to perform the operation inplace on the original object.\n",
      "\n",
      "\n",
      "  df['Price'].fillna(df['Price'].median(), inplace=True)\n",
      "C:\\Users\\ASUS\\AppData\\Local\\Temp\\ipykernel_23904\\290592254.py:6: FutureWarning: A value is trying to be set on a copy of a DataFrame or Series through chained assignment using an inplace method.\n",
      "The behavior will change in pandas 3.0. This inplace method will never work because the intermediate object on which we are setting values always behaves as a copy.\n",
      "\n",
      "For example, when doing 'df[col].method(value, inplace=True)', try using 'df.method({col: value}, inplace=True)' or df[col] = df[col].method(value) instead, to perform the operation inplace on the original object.\n",
      "\n",
      "\n",
      "  df['discount_percentage'].fillna(0, inplace=True)\n"
     ]
    }
   ],
   "source": [
    "# Step 1: Handle Missing Values (same as before)\n",
    "df['Product Description'].fillna('', inplace=True)\n",
    "df['Brand'].fillna('Unknown', inplace=True)\n",
    "df['Mrp'].fillna(df['Mrp'].median(), inplace=True)\n",
    "df['Price'].fillna(df['Price'].median(), inplace=True)\n",
    "df['discount_percentage'].fillna(0, inplace=True)\n",
    "df.dropna(subset=['Pack Size Or Quantity'], inplace=True)"
   ]
  },
  {
   "cell_type": "code",
   "execution_count": 30,
   "id": "7256d2be-4dff-4386-91e2-38696f983b87",
   "metadata": {},
   "outputs": [],
   "source": [
    "class SafeLabelEncoder(LabelEncoder):\n",
    "    def fit(self, X):\n",
    "        # Fit the label encoder as usual\n",
    "        super().fit(X)\n",
    "        # Add 'unknown' to the classes\n",
    "        if 'unknown' not in self.classes_:\n",
    "            self.classes_ = np.append(self.classes_, 'unknown')\n",
    "        return self\n",
    "\n",
    "    def transform(self, X):\n",
    "        X = np.array(X)\n",
    "        # Assign 'unknown' to any labels not seen during fitting\n",
    "        unknown_mask = np.isin(X, self.classes_, invert=True)\n",
    "        X[unknown_mask] = 'unknown'\n",
    "        return super().transform(X)\n",
    "\n",
    "    def fit_transform(self, X, y=None):\n",
    "        return self.fit(X).transform(X)"
   ]
  },
  {
   "cell_type": "code",
   "execution_count": 31,
   "id": "441a0b20-76dc-4ec2-8d87-5ec71a10a44e",
   "metadata": {},
   "outputs": [],
   "source": [
    "# Step 2: Encode Categorical Variables\n",
    "# Encoding 'Brand', 'Site Name', and 'city'\n",
    "label_encoders = {}\n",
    "for column in ['Brand', 'Site Name', 'city']:\n",
    "    le = LabelEncoder()\n",
    "    df[column] = le.fit_transform(df[column])\n",
    "    label_encoders[column] = le"
   ]
  },
  {
   "cell_type": "code",
   "execution_count": null,
   "id": "bd863c1a-53a9-4c61-8a2a-7409a47a0445",
   "metadata": {},
   "outputs": [],
   "source": [
    "pip install pillow\n"
   ]
  },
  {
   "cell_type": "code",
   "execution_count": 32,
   "id": "22348ea5-c9b7-4a68-bc32-af97375fef62",
   "metadata": {},
   "outputs": [],
   "source": [
    "# Step 3: Normalize Numerical Data\n",
    "scaler = MinMaxScaler()"
   ]
  },
  {
   "cell_type": "code",
   "execution_count": 33,
   "id": "f25f2eba-eff5-4308-8f0d-94b4a515a960",
   "metadata": {},
   "outputs": [],
   "source": [
    "# Normalize 'Mrp', 'Price', 'discount_percentage', 'latitude', 'longitude', and 'distance_to_user'\n",
    "df[['Mrp', 'Price', 'discount_percentage', 'latitude', 'longitude', 'distance_to_user']] = scaler.fit_transform(\n",
    "    df[['Mrp', 'Price', 'discount_percentage', 'latitude', 'longitude', 'distance_to_user']]\n",
    ")\n"
   ]
  },
  {
   "cell_type": "code",
   "execution_count": 34,
   "id": "45320aaf-323f-4427-8b5e-d235cecd2fe1",
   "metadata": {},
   "outputs": [],
   "source": [
    "# Step 4: Prepare Data for Model Input\n",
    "# Here, we'll combine relevant features into user_interactions.\n",
    "time_steps = 1  # Assuming a single timestep (you can modify this if needed)\n",
    "user_interactions = df[['Brand', 'Price', 'total_user_interactions', 'latitude', 'longitude', 'distance_to_user']].values.reshape(-1, time_steps, 6)\n"
   ]
  },
  {
   "cell_type": "code",
   "execution_count": 35,
   "id": "63bfb75c-d3bc-4c95-982c-0e5f79a9e0fa",
   "metadata": {},
   "outputs": [],
   "source": [
    "# Example: Using a binary category as labels (modify this as per your target variable)\n",
    "labels = df['Category_Detergents & Dishwash'].values  # Replace with the appropriate target if needed\n",
    "\n",
    "# user_interactions is now ready to be used as input to your model."
   ]
  },
  {
   "cell_type": "markdown",
   "id": "3e51a2a8-2303-454d-8a77-dcf206edd31f",
   "metadata": {
    "jp-MarkdownHeadingCollapsed": true
   },
   "source": [
    "### Model Training Without Images"
   ]
  },
  {
   "cell_type": "code",
   "execution_count": 37,
   "id": "cef6c5ac-7483-4474-87ca-78273cf01cd9",
   "metadata": {},
   "outputs": [],
   "source": [
    "# Example model (same as before but without image input)\n",
    "from tensorflow.keras.models import Model\n",
    "from tensorflow.keras.layers import LSTM, Dense, Input"
   ]
  },
  {
   "cell_type": "code",
   "execution_count": 38,
   "id": "f265fa68-5f25-42bd-adf2-99a77d448537",
   "metadata": {},
   "outputs": [],
   "source": [
    "# Define input shapes\n",
    "batch_size = 64\n",
    "time_steps = 1  # Adjust if using sequences\n",
    "input_shape = (time_steps, 6)"
   ]
  },
  {
   "cell_type": "code",
   "execution_count": 39,
   "id": "33d77699-2b3a-46b2-951b-416e35a17024",
   "metadata": {},
   "outputs": [],
   "source": [
    "# Input for user_interactions\n",
    "interaction_input = Input(shape=input_shape)"
   ]
  },
  {
   "cell_type": "code",
   "execution_count": 40,
   "id": "3978bea6-381d-4454-a94b-1f2910edcb2a",
   "metadata": {},
   "outputs": [],
   "source": [
    "# LSTM Layer\n",
    "lstm = LSTM(128, return_sequences=False)(interaction_input)\n",
    "output = Dense(1, activation='sigmoid')(lstm)"
   ]
  },
  {
   "cell_type": "code",
   "execution_count": 41,
   "id": "70a61bcf-c499-4c5e-b6fc-96e625be41e7",
   "metadata": {},
   "outputs": [],
   "source": [
    "# Build the model\n",
    "model = Model(inputs=interaction_input, outputs=output)"
   ]
  },
  {
   "cell_type": "code",
   "execution_count": 42,
   "id": "854d3f4b-c5dd-4fa4-86a2-cac99fb39192",
   "metadata": {},
   "outputs": [],
   "source": [
    "# Compile the model\n",
    "model.compile(optimizer='adam', loss='binary_crossentropy', metrics=['accuracy'])"
   ]
  },
  {
   "cell_type": "code",
   "execution_count": 43,
   "id": "de7db45f-1792-49d8-8c10-d0794039eaae",
   "metadata": {},
   "outputs": [
    {
     "name": "stdout",
     "output_type": "stream",
     "text": [
      "Epoch 1/5\n",
      "\u001b[1m128/128\u001b[0m \u001b[32m━━━━━━━━━━━━━━━━━━━━\u001b[0m\u001b[37m\u001b[0m \u001b[1m4s\u001b[0m 7ms/step - accuracy: 0.8201 - loss: 0.3119 - val_accuracy: 0.9956 - val_loss: 0.0294\n",
      "Epoch 2/5\n",
      "\u001b[1m128/128\u001b[0m \u001b[32m━━━━━━━━━━━━━━━━━━━━\u001b[0m\u001b[37m\u001b[0m \u001b[1m1s\u001b[0m 4ms/step - accuracy: 0.9976 - loss: 0.0192 - val_accuracy: 0.9956 - val_loss: 0.0280\n",
      "Epoch 3/5\n",
      "\u001b[1m128/128\u001b[0m \u001b[32m━━━━━━━━━━━━━━━━━━━━\u001b[0m\u001b[37m\u001b[0m \u001b[1m1s\u001b[0m 4ms/step - accuracy: 0.9968 - loss: 0.0213 - val_accuracy: 0.9956 - val_loss: 0.0280\n",
      "Epoch 4/5\n",
      "\u001b[1m128/128\u001b[0m \u001b[32m━━━━━━━━━━━━━━━━━━━━\u001b[0m\u001b[37m\u001b[0m \u001b[1m1s\u001b[0m 4ms/step - accuracy: 0.9967 - loss: 0.0219 - val_accuracy: 0.9956 - val_loss: 0.0282\n",
      "Epoch 5/5\n",
      "\u001b[1m128/128\u001b[0m \u001b[32m━━━━━━━━━━━━━━━━━━━━\u001b[0m\u001b[37m\u001b[0m \u001b[1m1s\u001b[0m 4ms/step - accuracy: 0.9981 - loss: 0.0142 - val_accuracy: 0.9956 - val_loss: 0.0283\n"
     ]
    },
    {
     "data": {
      "text/plain": [
       "<keras.src.callbacks.history.History at 0x1d0b2606120>"
      ]
     },
     "execution_count": 43,
     "metadata": {},
     "output_type": "execute_result"
    }
   ],
   "source": [
    "# Train the model with reduced epochs\n",
    "model.fit(user_interactions, labels, epochs=5, batch_size=batch_size, validation_split=0.2)\n"
   ]
  },
  {
   "cell_type": "code",
   "execution_count": 44,
   "id": "d692ff73-10bd-497b-b877-936772d8f703",
   "metadata": {},
   "outputs": [
    {
     "name": "stdout",
     "output_type": "stream",
     "text": [
      "Epoch 1/10\n",
      "\u001b[1m128/128\u001b[0m \u001b[32m━━━━━━━━━━━━━━━━━━━━\u001b[0m\u001b[37m\u001b[0m \u001b[1m1s\u001b[0m 4ms/step - accuracy: 0.9975 - loss: 0.0172 - val_accuracy: 0.9956 - val_loss: 0.0283\n",
      "Epoch 2/10\n",
      "\u001b[1m128/128\u001b[0m \u001b[32m━━━━━━━━━━━━━━━━━━━━\u001b[0m\u001b[37m\u001b[0m \u001b[1m1s\u001b[0m 4ms/step - accuracy: 0.9972 - loss: 0.0191 - val_accuracy: 0.9956 - val_loss: 0.0278\n",
      "Epoch 3/10\n",
      "\u001b[1m128/128\u001b[0m \u001b[32m━━━━━━━━━━━━━━━━━━━━\u001b[0m\u001b[37m\u001b[0m \u001b[1m1s\u001b[0m 4ms/step - accuracy: 0.9986 - loss: 0.0109 - val_accuracy: 0.9956 - val_loss: 0.0279\n",
      "Epoch 4/10\n",
      "\u001b[1m128/128\u001b[0m \u001b[32m━━━━━━━━━━━━━━━━━━━━\u001b[0m\u001b[37m\u001b[0m \u001b[1m1s\u001b[0m 4ms/step - accuracy: 0.9970 - loss: 0.0199 - val_accuracy: 0.9956 - val_loss: 0.0276\n",
      "Epoch 5/10\n",
      "\u001b[1m128/128\u001b[0m \u001b[32m━━━━━━━━━━━━━━━━━━━━\u001b[0m\u001b[37m\u001b[0m \u001b[1m1s\u001b[0m 4ms/step - accuracy: 0.9980 - loss: 0.0139 - val_accuracy: 0.9956 - val_loss: 0.0277\n",
      "Epoch 6/10\n",
      "\u001b[1m128/128\u001b[0m \u001b[32m━━━━━━━━━━━━━━━━━━━━\u001b[0m\u001b[37m\u001b[0m \u001b[1m1s\u001b[0m 4ms/step - accuracy: 0.9968 - loss: 0.0210 - val_accuracy: 0.9956 - val_loss: 0.0277\n",
      "Epoch 7/10\n",
      "\u001b[1m128/128\u001b[0m \u001b[32m━━━━━━━━━━━━━━━━━━━━\u001b[0m\u001b[37m\u001b[0m \u001b[1m1s\u001b[0m 4ms/step - accuracy: 0.9974 - loss: 0.0176 - val_accuracy: 0.9956 - val_loss: 0.0278\n",
      "Epoch 8/10\n",
      "\u001b[1m128/128\u001b[0m \u001b[32m━━━━━━━━━━━━━━━━━━━━\u001b[0m\u001b[37m\u001b[0m \u001b[1m1s\u001b[0m 4ms/step - accuracy: 0.9980 - loss: 0.0140 - val_accuracy: 0.9956 - val_loss: 0.0279\n",
      "Epoch 9/10\n",
      "\u001b[1m128/128\u001b[0m \u001b[32m━━━━━━━━━━━━━━━━━━━━\u001b[0m\u001b[37m\u001b[0m \u001b[1m1s\u001b[0m 4ms/step - accuracy: 0.9978 - loss: 0.0151 - val_accuracy: 0.9956 - val_loss: 0.0277\n",
      "Epoch 10/10\n",
      "\u001b[1m128/128\u001b[0m \u001b[32m━━━━━━━━━━━━━━━━━━━━\u001b[0m\u001b[37m\u001b[0m \u001b[1m1s\u001b[0m 4ms/step - accuracy: 0.9963 - loss: 0.0235 - val_accuracy: 0.9956 - val_loss: 0.0278\n"
     ]
    },
    {
     "data": {
      "text/plain": [
       "<keras.src.callbacks.history.History at 0x1d0b25acb90>"
      ]
     },
     "execution_count": 44,
     "metadata": {},
     "output_type": "execute_result"
    }
   ],
   "source": [
    "# Train the model with reduced epochs\n",
    "model.fit(user_interactions, labels, epochs=10, batch_size=batch_size, validation_split=0.2)\n"
   ]
  },
  {
   "cell_type": "code",
   "execution_count": 45,
   "id": "80087fef-60b3-4e9d-b7ba-70083764d64d",
   "metadata": {},
   "outputs": [],
   "source": [
    "# Save the trained model\n",
    "model.save('location_recommendation_model.keras')\n"
   ]
  },
  {
   "cell_type": "code",
   "execution_count": 46,
   "id": "915d28b7-c303-4eac-bc48-c787622efb0f",
   "metadata": {},
   "outputs": [
    {
     "name": "stdout",
     "output_type": "stream",
     "text": [
      "\u001b[1m160/160\u001b[0m \u001b[32m━━━━━━━━━━━━━━━━━━━━\u001b[0m\u001b[37m\u001b[0m \u001b[1m0s\u001b[0m 2ms/step - accuracy: 0.9979 - loss: 0.0147\n",
      "Test Loss: 0.0194\n",
      "Test Accuracy: 0.9971\n"
     ]
    }
   ],
   "source": [
    "# Evaluate the model\n",
    "loss, accuracy = model.evaluate(user_interactions, labels, batch_size=batch_size)\n",
    "\n",
    "# Print the evaluation results\n",
    "print(f'Test Loss: {loss:.4f}')\n",
    "print(f'Test Accuracy: {accuracy:.4f}')\n"
   ]
  },
  {
   "cell_type": "code",
   "execution_count": 47,
   "id": "a6581973-41ae-451e-ac72-1c4ac40e4710",
   "metadata": {},
   "outputs": [
    {
     "name": "stdout",
     "output_type": "stream",
     "text": [
      "\u001b[1m160/160\u001b[0m \u001b[32m━━━━━━━━━━━━━━━━━━━━\u001b[0m\u001b[37m\u001b[0m \u001b[1m1s\u001b[0m 3ms/step\n"
     ]
    }
   ],
   "source": [
    "# Make predictions on the test data\n",
    "predictions = model.predict(user_interactions, batch_size=batch_size)\n",
    "\n",
    "# Convert predictions to binary (0 or 1) based on a threshold (e.g., 0.5)\n",
    "predicted_labels = (predictions > 0.5).astype(int)\n"
   ]
  },
  {
   "cell_type": "code",
   "execution_count": 48,
   "id": "4f8a316b-dfcd-46a0-bdfa-486c432b9410",
   "metadata": {},
   "outputs": [
    {
     "name": "stdout",
     "output_type": "stream",
     "text": [
      "Confusion Matrix:\n",
      "[[10194     0]\n",
      " [   30     0]]\n",
      "\n",
      "Classification Report:\n",
      "              precision    recall  f1-score   support\n",
      "\n",
      "       False       1.00      1.00      1.00     10194\n",
      "        True       0.00      0.00      0.00        30\n",
      "\n",
      "    accuracy                           1.00     10224\n",
      "   macro avg       0.50      0.50      0.50     10224\n",
      "weighted avg       0.99      1.00      1.00     10224\n",
      "\n"
     ]
    },
    {
     "name": "stderr",
     "output_type": "stream",
     "text": [
      "C:\\Users\\ASUS\\tvenv\\Lib\\site-packages\\sklearn\\metrics\\_classification.py:1531: UndefinedMetricWarning: Precision is ill-defined and being set to 0.0 in labels with no predicted samples. Use `zero_division` parameter to control this behavior.\n",
      "  _warn_prf(average, modifier, f\"{metric.capitalize()} is\", len(result))\n",
      "C:\\Users\\ASUS\\tvenv\\Lib\\site-packages\\sklearn\\metrics\\_classification.py:1531: UndefinedMetricWarning: Precision is ill-defined and being set to 0.0 in labels with no predicted samples. Use `zero_division` parameter to control this behavior.\n",
      "  _warn_prf(average, modifier, f\"{metric.capitalize()} is\", len(result))\n",
      "C:\\Users\\ASUS\\tvenv\\Lib\\site-packages\\sklearn\\metrics\\_classification.py:1531: UndefinedMetricWarning: Precision is ill-defined and being set to 0.0 in labels with no predicted samples. Use `zero_division` parameter to control this behavior.\n",
      "  _warn_prf(average, modifier, f\"{metric.capitalize()} is\", len(result))\n"
     ]
    }
   ],
   "source": [
    "from sklearn.metrics import confusion_matrix, classification_report\n",
    "\n",
    "# Compute the confusion matrix\n",
    "conf_matrix = confusion_matrix(labels, predicted_labels)\n",
    "\n",
    "# Print the confusion matrix\n",
    "print('Confusion Matrix:')\n",
    "print(conf_matrix)\n",
    "\n",
    "# Optionally, print a classification report for more detailed metrics\n",
    "print('\\nClassification Report:')\n",
    "print(classification_report(labels, predicted_labels))\n"
   ]
  },
  {
   "cell_type": "code",
   "execution_count": 49,
   "id": "2175b33b-e366-4bfe-b134-83ea370ea9a7",
   "metadata": {},
   "outputs": [
    {
     "name": "stdout",
     "output_type": "stream",
     "text": [
      "Epoch 1/10\n",
      "\u001b[1m128/128\u001b[0m \u001b[32m━━━━━━━━━━━━━━━━━━━━\u001b[0m\u001b[37m\u001b[0m \u001b[1m1s\u001b[0m 4ms/step - accuracy: 0.9985 - loss: 0.0113 - val_accuracy: 0.9956 - val_loss: 0.0281\n",
      "Epoch 2/10\n",
      "\u001b[1m128/128\u001b[0m \u001b[32m━━━━━━━━━━━━━━━━━━━━\u001b[0m\u001b[37m\u001b[0m \u001b[1m1s\u001b[0m 4ms/step - accuracy: 0.9980 - loss: 0.0144 - val_accuracy: 0.9956 - val_loss: 0.0278\n",
      "Epoch 3/10\n",
      "\u001b[1m128/128\u001b[0m \u001b[32m━━━━━━━━━━━━━━━━━━━━\u001b[0m\u001b[37m\u001b[0m \u001b[1m1s\u001b[0m 4ms/step - accuracy: 0.9960 - loss: 0.0257 - val_accuracy: 0.9956 - val_loss: 0.0275\n",
      "Epoch 4/10\n",
      "\u001b[1m128/128\u001b[0m \u001b[32m━━━━━━━━━━━━━━━━━━━━\u001b[0m\u001b[37m\u001b[0m \u001b[1m1s\u001b[0m 4ms/step - accuracy: 0.9974 - loss: 0.0175 - val_accuracy: 0.9956 - val_loss: 0.0278\n",
      "Epoch 5/10\n",
      "\u001b[1m128/128\u001b[0m \u001b[32m━━━━━━━━━━━━━━━━━━━━\u001b[0m\u001b[37m\u001b[0m \u001b[1m1s\u001b[0m 4ms/step - accuracy: 0.9986 - loss: 0.0106 - val_accuracy: 0.9956 - val_loss: 0.0276\n",
      "Epoch 6/10\n",
      "\u001b[1m128/128\u001b[0m \u001b[32m━━━━━━━━━━━━━━━━━━━━\u001b[0m\u001b[37m\u001b[0m \u001b[1m1s\u001b[0m 4ms/step - accuracy: 0.9981 - loss: 0.0135 - val_accuracy: 0.9956 - val_loss: 0.0279\n",
      "Epoch 7/10\n",
      "\u001b[1m128/128\u001b[0m \u001b[32m━━━━━━━━━━━━━━━━━━━━\u001b[0m\u001b[37m\u001b[0m \u001b[1m1s\u001b[0m 4ms/step - accuracy: 0.9976 - loss: 0.0168 - val_accuracy: 0.9956 - val_loss: 0.0279\n",
      "Epoch 8/10\n",
      "\u001b[1m128/128\u001b[0m \u001b[32m━━━━━━━━━━━━━━━━━━━━\u001b[0m\u001b[37m\u001b[0m \u001b[1m1s\u001b[0m 4ms/step - accuracy: 0.9967 - loss: 0.0213 - val_accuracy: 0.9956 - val_loss: 0.0277\n",
      "Epoch 9/10\n",
      "\u001b[1m128/128\u001b[0m \u001b[32m━━━━━━━━━━━━━━━━━━━━\u001b[0m\u001b[37m\u001b[0m \u001b[1m1s\u001b[0m 4ms/step - accuracy: 0.9959 - loss: 0.0260 - val_accuracy: 0.9956 - val_loss: 0.0279\n",
      "Epoch 10/10\n",
      "\u001b[1m128/128\u001b[0m \u001b[32m━━━━━━━━━━━━━━━━━━━━\u001b[0m\u001b[37m\u001b[0m \u001b[1m1s\u001b[0m 4ms/step - accuracy: 0.9973 - loss: 0.0181 - val_accuracy: 0.9956 - val_loss: 0.0276\n"
     ]
    }
   ],
   "source": [
    "# Train the model and save the history\n",
    "history = model.fit(user_interactions, labels, epochs=10, batch_size=batch_size, validation_split=0.2)\n"
   ]
  },
  {
   "cell_type": "code",
   "execution_count": null,
   "id": "6303074d-5c71-4557-8c1c-6862fbd974f6",
   "metadata": {},
   "outputs": [],
   "source": [
    "pip install matplotlib\n"
   ]
  },
  {
   "cell_type": "code",
   "execution_count": 50,
   "id": "0c0f3fab-04c4-49fd-b92b-9f478886d417",
   "metadata": {},
   "outputs": [],
   "source": [
    "import matplotlib.pyplot as plt\n"
   ]
  },
  {
   "cell_type": "code",
   "execution_count": 51,
   "id": "517d407d-5579-4227-8e37-1828751f743f",
   "metadata": {},
   "outputs": [
    {
     "data": {
      "image/png": "[encoded data removed]",
      "text/plain": [
       "<Figure size 1200x600 with 2 Axes>"
      ]
     },
     "metadata": {},
     "output_type": "display_data"
    }
   ],
   "source": [
    "# Plot training & validation accuracy values\n",
    "plt.figure(figsize=(12, 6))\n",
    "\n",
    "plt.subplot(1, 2, 1)\n",
    "plt.plot(history.history['accuracy'])\n",
    "plt.plot(history.history['val_accuracy'])\n",
    "plt.title('Model Accuracy')\n",
    "plt.xlabel('Epoch')\n",
    "plt.ylabel('Accuracy')\n",
    "plt.legend(['Train', 'Validation'], loc='upper left')\n",
    "\n",
    "# Plot training & validation loss values\n",
    "plt.subplot(1, 2, 2)\n",
    "plt.plot(history.history['loss'])\n",
    "plt.plot(history.history['val_loss'])\n",
    "plt.title('Model Loss')\n",
    "plt.xlabel('Epoch')\n",
    "plt.ylabel('Loss')\n",
    "plt.legend(['Train', 'Validation'], loc='upper left')\n",
    "\n",
    "# Show the plots\n",
    "plt.tight_layout()\n",
    "plt.show()"
   ]
  },
  {
   "cell_type": "markdown",
   "id": "a0fd62b6-49dc-4344-b544-9dc7c27adc0a",
   "metadata": {
    "jp-MarkdownHeadingCollapsed": true
   },
   "source": [
    "### loading the model for recommendation"
   ]
  },
  {
   "cell_type": "code",
   "execution_count": 53,
   "id": "75a003de-b28b-4b6f-a8e7-b07253b9dc0c",
   "metadata": {},
   "outputs": [],
   "source": [
    "from tensorflow.keras.models import load_model\n",
    "\n",
    "# Load the previously saved model\n",
    "model = load_model('location_recommendation_model.keras')\n"
   ]
  },
  {
   "cell_type": "code",
   "execution_count": 54,
   "id": "3b0738d4-df54-4fc4-adcd-e0d952ed5e93",
   "metadata": {},
   "outputs": [],
   "source": [
    "# Assuming you have product_images and user_interactions as the input data\n",
    "product_images = np.random.rand(100, 64, 64, 3)  # Replace with actual image data\n",
    "user_interactions = np.random.rand(100, 64)  # Replace with actual interaction data\n",
    "labels = np.random.randint(0, 2, size=(100,))  # Replace with actual labels\n"
   ]
  },
  {
   "cell_type": "code",
   "execution_count": 56,
   "id": "a1be849c-a917-479d-9694-45efa52b4e8d",
   "metadata": {},
   "outputs": [
    {
     "name": "stdout",
     "output_type": "stream",
     "text": [
      "(100, 64, 64, 3)\n",
      "(100, 64)\n"
     ]
    }
   ],
   "source": [
    "print(product_images.shape)        # Should be (num_samples, 64, 64, 3)\n",
    "print(user_interactions.shape)     # Should be (num_samples, 64)\n"
   ]
  },
  {
   "cell_type": "code",
   "execution_count": 60,
   "id": "adb6f272-1a46-4f06-a8ac-e29d7b61921e",
   "metadata": {},
   "outputs": [
    {
     "name": "stdout",
     "output_type": "stream",
     "text": [
      "Epoch 1/10\n"
     ]
    },
    {
     "ename": "ValueError",
     "evalue": "Layer \"functional_1\" expects 1 input(s), but it received 2 input tensors. Inputs received: [<tf.Tensor 'data:0' shape=(None, 64, 64, 3) dtype=float32>, <tf.Tensor 'data_1:0' shape=(None, 64) dtype=float32>]",
     "output_type": "error",
     "traceback": [
      "\u001b[1;31m---------------------------------------------------------------------------\u001b[0m",
      "\u001b[1;31mValueError\u001b[0m                                Traceback (most recent call last)",
      "Cell \u001b[1;32mIn[60], line 6\u001b[0m\n\u001b[0;32m      1\u001b[0m \u001b[38;5;66;03m# Assuming product_images is a NumPy array of shape (num_samples, 64, 64, 3)\u001b[39;00m\n\u001b[0;32m      2\u001b[0m \u001b[38;5;66;03m# And user_interactions is a NumPy array of shape (num_samples, 64)\u001b[39;00m\n\u001b[0;32m      3\u001b[0m \u001b[38;5;66;03m# labels is the array of target labels for training\u001b[39;00m\n\u001b[0;32m      4\u001b[0m \n\u001b[0;32m      5\u001b[0m \u001b[38;5;66;03m# Train the model with the two inputs\u001b[39;00m\n\u001b[1;32m----> 6\u001b[0m \u001b[43mmodel\u001b[49m\u001b[38;5;241;43m.\u001b[39;49m\u001b[43mfit\u001b[49m\u001b[43m(\u001b[49m\n\u001b[0;32m      7\u001b[0m \u001b[43m    \u001b[49m\u001b[43m[\u001b[49m\u001b[43mproduct_images\u001b[49m\u001b[43m,\u001b[49m\u001b[43m \u001b[49m\u001b[43muser_interactions\u001b[49m\u001b[43m]\u001b[49m\u001b[43m,\u001b[49m\u001b[43m  \u001b[49m\u001b[38;5;66;43;03m# Pass the inputs as a list\u001b[39;49;00m\n\u001b[0;32m      8\u001b[0m \u001b[43m    \u001b[49m\u001b[43mlabels\u001b[49m\u001b[43m,\u001b[49m\u001b[43m                               \u001b[49m\u001b[38;5;66;43;03m# Target labels\u001b[39;49;00m\n\u001b[0;32m      9\u001b[0m \u001b[43m    \u001b[49m\u001b[43mepochs\u001b[49m\u001b[38;5;241;43m=\u001b[39;49m\u001b[38;5;241;43m10\u001b[39;49m\u001b[43m,\u001b[49m\n\u001b[0;32m     10\u001b[0m \u001b[43m    \u001b[49m\u001b[43mbatch_size\u001b[49m\u001b[38;5;241;43m=\u001b[39;49m\u001b[38;5;241;43m16\u001b[39;49m\n\u001b[0;32m     11\u001b[0m \u001b[43m)\u001b[49m\n",
      "File \u001b[1;32m~\\tvenv\\Lib\\site-packages\\keras\\src\\utils\\traceback_utils.py:122\u001b[0m, in \u001b[0;36mfilter_traceback.<locals>.error_handler\u001b[1;34m(*args, **kwargs)\u001b[0m\n\u001b[0;32m    119\u001b[0m     filtered_tb \u001b[38;5;241m=\u001b[39m _process_traceback_frames(e\u001b[38;5;241m.\u001b[39m__traceback__)\n\u001b[0;32m    120\u001b[0m     \u001b[38;5;66;03m# To get the full stack trace, call:\u001b[39;00m\n\u001b[0;32m    121\u001b[0m     \u001b[38;5;66;03m# `keras.config.disable_traceback_filtering()`\u001b[39;00m\n\u001b[1;32m--> 122\u001b[0m     \u001b[38;5;28;01mraise\u001b[39;00m e\u001b[38;5;241m.\u001b[39mwith_traceback(filtered_tb) \u001b[38;5;28;01mfrom\u001b[39;00m \u001b[38;5;28;01mNone\u001b[39;00m\n\u001b[0;32m    123\u001b[0m \u001b[38;5;28;01mfinally\u001b[39;00m:\n\u001b[0;32m    124\u001b[0m     \u001b[38;5;28;01mdel\u001b[39;00m filtered_tb\n",
      "File \u001b[1;32m~\\tvenv\\Lib\\site-packages\\keras\\src\\layers\\input_spec.py:160\u001b[0m, in \u001b[0;36massert_input_compatibility\u001b[1;34m(input_spec, inputs, layer_name)\u001b[0m\n\u001b[0;32m    158\u001b[0m inputs \u001b[38;5;241m=\u001b[39m tree\u001b[38;5;241m.\u001b[39mflatten(inputs)\n\u001b[0;32m    159\u001b[0m \u001b[38;5;28;01mif\u001b[39;00m \u001b[38;5;28mlen\u001b[39m(inputs) \u001b[38;5;241m!=\u001b[39m \u001b[38;5;28mlen\u001b[39m(input_spec):\n\u001b[1;32m--> 160\u001b[0m     \u001b[38;5;28;01mraise\u001b[39;00m \u001b[38;5;167;01mValueError\u001b[39;00m(\n\u001b[0;32m    161\u001b[0m         \u001b[38;5;124mf\u001b[39m\u001b[38;5;124m'\u001b[39m\u001b[38;5;124mLayer \u001b[39m\u001b[38;5;124m\"\u001b[39m\u001b[38;5;132;01m{\u001b[39;00mlayer_name\u001b[38;5;132;01m}\u001b[39;00m\u001b[38;5;124m\"\u001b[39m\u001b[38;5;124m expects \u001b[39m\u001b[38;5;132;01m{\u001b[39;00m\u001b[38;5;28mlen\u001b[39m(input_spec)\u001b[38;5;132;01m}\u001b[39;00m\u001b[38;5;124m input(s),\u001b[39m\u001b[38;5;124m'\u001b[39m\n\u001b[0;32m    162\u001b[0m         \u001b[38;5;124mf\u001b[39m\u001b[38;5;124m\"\u001b[39m\u001b[38;5;124m but it received \u001b[39m\u001b[38;5;132;01m{\u001b[39;00m\u001b[38;5;28mlen\u001b[39m(inputs)\u001b[38;5;132;01m}\u001b[39;00m\u001b[38;5;124m input tensors. \u001b[39m\u001b[38;5;124m\"\u001b[39m\n\u001b[0;32m    163\u001b[0m         \u001b[38;5;124mf\u001b[39m\u001b[38;5;124m\"\u001b[39m\u001b[38;5;124mInputs received: \u001b[39m\u001b[38;5;132;01m{\u001b[39;00minputs\u001b[38;5;132;01m}\u001b[39;00m\u001b[38;5;124m\"\u001b[39m\n\u001b[0;32m    164\u001b[0m     )\n\u001b[0;32m    165\u001b[0m \u001b[38;5;28;01mfor\u001b[39;00m input_index, (x, spec) \u001b[38;5;129;01min\u001b[39;00m \u001b[38;5;28menumerate\u001b[39m(\u001b[38;5;28mzip\u001b[39m(inputs, input_spec)):\n\u001b[0;32m    166\u001b[0m     \u001b[38;5;28;01mif\u001b[39;00m spec \u001b[38;5;129;01mis\u001b[39;00m \u001b[38;5;28;01mNone\u001b[39;00m:\n",
      "\u001b[1;31mValueError\u001b[0m: Layer \"functional_1\" expects 1 input(s), but it received 2 input tensors. Inputs received: [<tf.Tensor 'data:0' shape=(None, 64, 64, 3) dtype=float32>, <tf.Tensor 'data_1:0' shape=(None, 64) dtype=float32>]"
     ]
    }
   ],
   "source": [
    "# Assuming product_images is a NumPy array of shape (num_samples, 64, 64, 3)\n",
    "# And user_interactions is a NumPy array of shape (num_samples, 64)\n",
    "# labels is the array of target labels for training\n",
    "\n",
    "# Train the model with the two inputs\n",
    "model.fit(\n",
    "    [product_images, user_interactions],  # Pass the inputs as a list\n",
    "    labels,                               # Target labels\n",
    "    epochs=10,\n",
    "    batch_size=16\n",
    ")\n"
   ]
  },
  {
   "cell_type": "code",
   "execution_count": null,
   "id": "dd6417bf-5a81-46a0-940d-82e3c4353977",
   "metadata": {},
   "outputs": [],
   "source": []
  }
 ],
 "metadata": {
  "kernelspec": {
   "display_name": "tfwkernel",
   "language": "python",
   "name": "tfwkernel"
  },
  "language_info": {
   "codemirror_mode": {
    "name": "ipython",
    "version": 3
   },
   "file_extension": ".py",
   "mimetype": "text/x-python",
   "name": "python",
   "nbconvert_exporter": "python",
   "pygments_lexer": "ipython3",
   "version": "3.12.3"
  }
 },
 "nbformat": 4,
 "nbformat_minor": 5
}
