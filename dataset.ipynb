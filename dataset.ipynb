{
 "cells": [
  {
   "cell_type": "code",
   "execution_count": 3,
   "id": "ec69626d-b09a-4d77-a8d7-08ced0bf4687",
   "metadata": {},
   "outputs": [
    {
     "name": "stdout",
     "output_type": "stream",
     "text": [
      "All CSV files have been successfully combined into 'combined_amazon_products.csv'\n"
     ]
    }
   ],
   "source": [
    "import pandas as pd\n",
    "import os\n",
    "\n",
    "# Define the directory where the CSV files are stored\n",
    "csv_directory = r\"C:\\Users\\ASUS\\Downloads\\archive\"  # Replace with the path where your CSV files are stored\n",
    "\n",
    "# List to hold dataframes from all CSV files\n",
    "dataframes = []\n",
    "\n",
    "# Loop over each file in the directory\n",
    "for filename in os.listdir(csv_directory):\n",
    "    if filename.endswith(\".csv\"):\n",
    "        file_path = os.path.join(csv_directory, filename)\n",
    "        # Read each CSV file into a pandas dataframe\n",
    "        df = pd.read_csv(file_path)\n",
    "        # Add a new column to identify the category based on filename (optional)\n",
    "        df['source_category'] = filename.replace('.csv', '')  # Optional: file name as a category identifier\n",
    "        # Append the dataframe to the list\n",
    "        dataframes.append(df)\n",
    "\n",
    "# Concatenate all dataframes into a single dataframe\n",
    "combined_df = pd.concat(dataframes, ignore_index=True)\n",
    "\n",
    "# Write the combined dataframe to a new CSV file\n",
    "combined_df.to_csv('combined_amazon_products.csv', index=False)\n",
    "\n",
    "print(\"All CSV files have been successfully combined into 'combined_amazon_products.csv'\")\n"
   ]
  },
  {
   "cell_type": "code",
   "execution_count": 4,
   "id": "08b8ae49-bb83-4b2e-9142-f7aaa2a6b661",
   "metadata": {},
   "outputs": [
    {
     "data": {
      "text/plain": [
       "'C:\\\\Users\\\\ASUS\\\\Downloads'"
      ]
     },
     "execution_count": 4,
     "metadata": {},
     "output_type": "execute_result"
    }
   ],
   "source": [
    "pwd\n"
   ]
  },
  {
   "cell_type": "code",
   "execution_count": 5,
   "id": "49385ccf-a7a7-45be-87b4-88a0137920ae",
   "metadata": {},
   "outputs": [
    {
     "name": "stdout",
     "output_type": "stream",
     "text": [
      "                                                name main_category  \\\n",
      "0  Lloyd 1.5 Ton 3 Star Inverter Split Ac (5 In 1...    appliances   \n",
      "1  LG 1.5 Ton 5 Star AI DUAL Inverter Split AC (C...    appliances   \n",
      "2  LG 1 Ton 4 Star Ai Dual Inverter Split Ac (Cop...    appliances   \n",
      "3  LG 1.5 Ton 3 Star AI DUAL Inverter Split AC (C...    appliances   \n",
      "4  Carrier 1.5 Ton 3 Star Inverter Split AC (Copp...    appliances   \n",
      "\n",
      "       sub_category                                              image  \\\n",
      "0  Air Conditioners  https://m.media-amazon.com/images/I/31UISB90sY...   \n",
      "1  Air Conditioners  https://m.media-amazon.com/images/I/51JFb7FctD...   \n",
      "2  Air Conditioners  https://m.media-amazon.com/images/I/51JFb7FctD...   \n",
      "3  Air Conditioners  https://m.media-amazon.com/images/I/51JFb7FctD...   \n",
      "4  Air Conditioners  https://m.media-amazon.com/images/I/41lrtqXPiW...   \n",
      "\n",
      "                                                link ratings no_of_ratings  \\\n",
      "0  https://www.amazon.in/Lloyd-Inverter-Convertib...     4.2         2,255   \n",
      "1  https://www.amazon.in/LG-Convertible-Anti-Viru...     4.2         2,948   \n",
      "2  https://www.amazon.in/LG-Inverter-Convertible-...     4.2         1,206   \n",
      "3  https://www.amazon.in/LG-Convertible-Anti-Viru...     4.0            69   \n",
      "4  https://www.amazon.in/Carrier-Inverter-Split-C...     4.1           630   \n",
      "\n",
      "  discount_price actual_price   source_category  Unnamed: 0           city  \\\n",
      "0        ₹32,999      ₹58,990  Air Conditioners         NaN    Tirunelveli   \n",
      "1        ₹46,490      ₹75,990  Air Conditioners         NaN       Khanapur   \n",
      "2        ₹34,490      ₹61,990  Air Conditioners         NaN        Belgaum   \n",
      "3        ₹37,990      ₹68,990  Air Conditioners         NaN  Malegaon Camp   \n",
      "4        ₹34,490      ₹67,790  Air Conditioners         NaN   Rajapalaiyam   \n",
      "\n",
      "    latitude  longitude  \n",
      "0   8.725181  77.684519  \n",
      "1  21.273716  76.117376  \n",
      "2  15.862643  74.508534  \n",
      "3  20.569974  74.515415  \n",
      "4   9.451111  77.556121  \n"
     ]
    }
   ],
   "source": [
    "import pandas as pd\n",
    "import numpy as np\n",
    "\n",
    "# Load the Amazon dataset and Indian cities dataset\n",
    "amazon_df = pd.read_csv(\"combined_amazon_products.csv\")\n",
    "cities_df = pd.read_csv(\"Indian Cities Database.csv\")\n",
    "\n",
    "# Assign each product to a random city from the Indian cities dataset\n",
    "num_products = amazon_df.shape[0]\n",
    "random_cities = cities_df.sample(n=num_products, replace=True).reset_index(drop=True)\n",
    "\n",
    "# Add the city information (name, latitude, longitude) to the Amazon dataset\n",
    "amazon_df['city'] = random_cities['City']\n",
    "amazon_df['latitude'] = random_cities['Lat']\n",
    "amazon_df['longitude'] = random_cities['Long']\n",
    "\n",
    "# Check the result\n",
    "print(amazon_df.head())\n"
   ]
  },
  {
   "cell_type": "code",
   "execution_count": 9,
   "id": "3b3902e6-d3e4-49db-a650-ffec45d8d481",
   "metadata": {},
   "outputs": [],
   "source": [
    "amazon_df.to_csv('dataset.csv', index=False)"
   ]
  },
  {
   "cell_type": "code",
   "execution_count": 10,
   "id": "6c8340f0-2b51-4a15-8a4b-6bc9230ca702",
   "metadata": {},
   "outputs": [],
   "source": [
    "import geopy"
   ]
  },
  {
   "cell_type": "code",
   "execution_count": 12,
   "id": "2a28b7ba-27a9-400f-8b39-c1770f5c576d",
   "metadata": {},
   "outputs": [
    {
     "name": "stdout",
     "output_type": "stream",
     "text": [
      "                                                name           city  \\\n",
      "0  Lloyd 1.5 Ton 3 Star Inverter Split Ac (5 In 1...    Tirunelveli   \n",
      "1  LG 1.5 Ton 5 Star AI DUAL Inverter Split AC (C...       Khanapur   \n",
      "2  LG 1 Ton 4 Star Ai Dual Inverter Split Ac (Cop...        Belgaum   \n",
      "3  LG 1.5 Ton 3 Star AI DUAL Inverter Split AC (C...  Malegaon Camp   \n",
      "4  Carrier 1.5 Ton 3 Star Inverter Split AC (Copp...   Rajapalaiyam   \n",
      "\n",
      "   distance_to_user  \n",
      "0       1257.207201  \n",
      "1        416.957967  \n",
      "2        395.567365  \n",
      "3        238.300799  \n",
      "4       1178.235223  \n"
     ]
    }
   ],
   "source": [
    "from geopy.distance import geodesic\n",
    "\n",
    "# Example of user's real-time location (e.g., user in Mumbai)\n",
    "user_location = (19.0760, 72.8777)  # (latitude, longitude)\n",
    "\n",
    "# Define a function to calculate distance\n",
    "def calculate_distance(row, user_location):\n",
    "    product_location = (row['latitude'], row['longitude'])\n",
    "    return geodesic(user_location, product_location).kilometers\n",
    "\n",
    "# Apply the function to calculate distance and add a new feature 'distance_to_user'\n",
    "amazon_df['distance_to_user'] = amazon_df.apply(lambda row: calculate_distance(row, user_location), axis=1)\n",
    "\n",
    "# Check the updated dataset with distance feature\n",
    "print(amazon_df[['name', 'city', 'distance_to_user']].head())"
   ]
  },
  {
   "cell_type": "code",
   "execution_count": 13,
   "id": "a03af950-f914-4f1c-9242-7797af7402ba",
   "metadata": {},
   "outputs": [],
   "source": [
    "amazon_df.to_csv('dataset.csv', index=False)"
   ]
  },
  {
   "cell_type": "code",
   "execution_count": 14,
   "id": "a17268cf-3baf-44a5-9bed-75a773efe1d7",
   "metadata": {},
   "outputs": [
    {
     "data": {
      "text/plain": [
       "['name',\n",
       " 'main_category',\n",
       " 'sub_category',\n",
       " 'image',\n",
       " 'link',\n",
       " 'ratings',\n",
       " 'no_of_ratings',\n",
       " 'discount_price',\n",
       " 'actual_price',\n",
       " 'source_category',\n",
       " 'Unnamed: 0',\n",
       " 'city',\n",
       " 'latitude',\n",
       " 'longitude',\n",
       " 'distance_to_user']"
      ]
     },
     "execution_count": 14,
     "metadata": {},
     "output_type": "execute_result"
    }
   ],
   "source": [
    "list(amazon_df.columns)"
   ]
  },
  {
   "cell_type": "code",
   "execution_count": null,
   "id": "3bce0c57-abe7-4969-bbf6-1e4c5463f9f0",
   "metadata": {},
   "outputs": [],
   "source": []
  }
 ],
 "metadata": {
  "kernelspec": {
   "display_name": "Python 3 (ipykernel)",
   "language": "python",
   "name": "python3"
  },
  "language_info": {
   "codemirror_mode": {
    "name": "ipython",
    "version": 3
   },
   "file_extension": ".py",
   "mimetype": "text/x-python",
   "name": "python",
   "nbconvert_exporter": "python",
   "pygments_lexer": "ipython3",
   "version": "3.12.3"
  }
 },
 "nbformat": 4,
 "nbformat_minor": 5
}
